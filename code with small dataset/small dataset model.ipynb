{
 "cells": [
  {
   "cell_type": "code",
   "execution_count": 1,
   "metadata": {},
   "outputs": [],
   "source": [
    "from __future__ import absolute_import, division, print_function, unicode_literals\n",
    "import requests\n",
    "import pandas as pd\n",
    "from bs4 import BeautifulSoup\n",
    "from urllib.request import build_opener\n",
    "from urllib.request import install_opener\n",
    "import os\n",
    "import pathlib\n",
    "from os import listdir\n",
    "from os.path import isfile, join\n",
    "\n",
    "from PIL import Image\n",
    "import numpy as np\n",
    "import matplotlib.pyplot as plt\n",
    "\n",
    "import tensorflow as tf\n",
    "from tensorflow.keras import datasets, layers, models, optimizers\n",
    "from tensorflow.keras.preprocessing.image import ImageDataGenerator\n",
    "from tensorflow.keras.utils import plot_model\n",
    "from sklearn.model_selection import train_test_split"
   ]
  },
  {
   "cell_type": "code",
   "execution_count": 2,
   "metadata": {},
   "outputs": [],
   "source": [
    "physical_devices = tf.config.experimental.list_physical_devices('GPU') \n",
    "for physical_device in physical_devices: \n",
    "    tf.config.experimental.set_memory_growth(physical_device, True)"
   ]
  },
  {
   "cell_type": "code",
   "execution_count": 3,
   "metadata": {},
   "outputs": [
    {
     "name": "stdout",
     "output_type": "stream",
     "text": [
      "2.2.0\n"
     ]
    }
   ],
   "source": [
    "print(tf.__version__)"
   ]
  },
  {
   "cell_type": "code",
   "execution_count": 4,
   "metadata": {},
   "outputs": [
    {
     "name": "stdout",
     "output_type": "stream",
     "text": [
      "WARNING:tensorflow:From <ipython-input-4-ee78e0b58e7e>:2: is_gpu_available (from tensorflow.python.framework.test_util) is deprecated and will be removed in a future version.\n",
      "Instructions for updating:\n",
      "Use `tf.config.list_physical_devices('GPU')` instead.\n"
     ]
    },
    {
     "data": {
      "text/plain": [
       "True"
      ]
     },
     "execution_count": 4,
     "metadata": {},
     "output_type": "execute_result"
    }
   ],
   "source": [
    "# Is jupyter notebook using GPU\n",
    "tf.test.is_gpu_available()"
   ]
  },
  {
   "cell_type": "markdown",
   "metadata": {},
   "source": [
    "# count how many images in each category"
   ]
  },
  {
   "cell_type": "code",
   "execution_count": 5,
   "metadata": {},
   "outputs": [],
   "source": [
    "folder_name_list = ['001_Bulbasaur', '002_Ivysaur', '003_Venusaur', '004_Charmander', '005_Charmeleon',\n",
    " '006_Charizard', '007_Squirtle', '008_Wartortle', '009_Blastoise', '010_Caterpie', '011_Metapod',\n",
    " '012_Butterfree', '013_Weedle', '014_Kakuna', '015_Beedrill', '016_Pidgey', '017_Pidgeotto', '018_Pidgeot',\n",
    " '019_Rattata', '020_Raticate', '021_Spearow', '022_Fearow', '023_Ekans', '024_Arbok', '025_Pikachu', '026_Raichu',\n",
    " '027_Sandshrew', '028_Sandslash', '029_Nidoran♀', '030_Nidorina', '031_Nidoqueen', '032_Nidoran♂', '033_Nidorino',\n",
    " '034_Nidoking', '035_Clefairy', '036_Clefable', '037_Vulpix', '038_Ninetales', '039_Jigglypuff', '040_Wigglytuff',\n",
    " '041_Zubat', '042_Golbat', '043_Oddish', '044_Gloom', '045_Vileplume', '046_Paras', '047_Parasect', '048_Venonat',\n",
    " '049_Venomoth', '050_Diglett', '051_Dugtrio', '052_Meowth', '053_Persian', '054_Psyduck', '055_Golduck', '056_Mankey',\n",
    " '057_Primeape', '058_Growlithe', '059_Arcanine', '060_Poliwag', '061_Poliwhirl', '062_Poliwrath', '063_Abra',\n",
    " '064_Kadabra', '065_Alakazam', '066_Machop', '067_Machoke', '068_Machamp', '069_Bellsprout', '070_Weepinbell',\n",
    " '071_Victreebel', '072_Tentacool', '073_Tentacruel', '074_Geodude', '075_Graveler', '076_Golem', '077_Ponyta',\n",
    " '078_Rapidash', '079_Slowpoke', '080_Slowbro', '081_Magnemite', '082_Magneton', \"083_Farfetch'd\", '084_Doduo',\n",
    " '085_Dodrio', '086_Seel', '087_Dewgong', '088_Grimer', '089_Muk', '090_Shellder', '091_Cloyster', '092_Gastly',\n",
    " '093_Haunter', '094_Gengar', '095_Onix', '096_Drowzee', '097_Hypno', '098_Krabby', '099_Kingler', '100_Voltorb',\n",
    " '101_Electrode', '102_Exeggcute', '103_Exeggutor', '104_Cubone', '105_Marowak', '106_Hitmonlee', '107_Hitmonchan',\n",
    " '108_Lickitung', '109_Koffing', '110_Weezing', '111_Rhyhorn', '112_Rhydon', '113_Chansey', '114_Tangela',\n",
    " '115_Kangaskhan', '116_Horsea', '117_Seadra', '118_Goldeen', '119_Seaking', '120_Staryu', '121_Starmie',\n",
    " '122_Mr. Mime', '123_Scyther', '124_Jynx', '125_Electabuzz', '126_Magmar', '127_Pinsir', '128_Tauros',\n",
    " '129_Magikarp', '130_Gyarados', '131_Lapras', '132_Ditto', '133_Eevee', '134_Vaporeon', '135_Jolteon',\n",
    " '136_Flareon', '137_Porygon', '138_Omanyte', '139_Omastar', '140_Kabuto', '141_Kabutops', '142_Aerodactyl',\n",
    " '143_Snorlax', '144_Articuno', '145_Zapdos', '146_Moltres', '147_Dratini', '148_Dragonair', '149_Dragonite',\n",
    " '150_Mewtwo', '151_Mew', '152_Chikorita', '153_Bayleef', '154_Meganium', '155_Cyndaquil', '156_Quilava', '157_Typhlosion',\n",
    " '158_Totodile', '159_Croconaw', '160_Feraligatr', '161_Sentret', '162_Furret', '163_Hoothoot', '164_Noctowl',\n",
    " '165_Ledyba', '166_Ledian', '167_Spinarak', '168_Ariados', '169_Crobat', '170_Chinchou', '171_Lanturn', '172_Pichu',\n",
    " '173_Cleffa', '174_Igglybuff', '175_Togepi', '176_Togetic', '177_Natu', '178_Xatu', '179_Mareep', '180_Flaaffy',\n",
    " '181_Ampharos', '182_Bellossom', '183_Marill', '184_Azumarill', '185_Sudowoodo', '186_Politoed', '187_Hoppip',\n",
    " '188_Skiploom', '189_Jumpluff', '190_Aipom', '191_Sunkern', '192_Sunflora', '193_Yanma', '194_Wooper', '195_Quagsire',\n",
    " '196_Espeon', '197_Umbreon', '198_Murkrow', '199_Slowking', '200_Misdreavus', '201_Unown', '202_Wobbuffet', '203_Girafarig',\n",
    " '204_Pineco', '205_Forretress', '206_Dunsparce', '207_Gligar', '208_Steelix', '209_Snubbull', '210_Granbull',\n",
    " '211_Qwilfish', '212_Scizor', '213_Shuckle', '214_Heracross', '215_Sneasel', '216_Teddiursa', '217_Ursaring',\n",
    " '218_Slugma', '219_Magcargo', '220_Swinub', '221_Piloswine', '222_Corsola', '223_Remoraid', '224_Octillery',\n",
    " '225_Delibird', '226_Mantine', '227_Skarmory', '228_Houndour', '229_Houndoom', '230_Kingdra', '231_Phanpy',\n",
    " '232_Donphan', '233_Porygon2', '234_Stantler', '235_Smeargle', '236_Tyrogue', '237_Hitmontop', '238_Smoochum',\n",
    " '239_Elekid', '240_Magby', '241_Miltank', '242_Blissey', '243_Raikou', '244_Entei', '245_Suicune', '246_Larvitar',\n",
    " '247_Pupitar', '248_Tyranitar', '249_Lugia', '250_Ho-Oh', '251_Celebi', '252_Treecko', '253_Grovyle', '254_Sceptile',\n",
    " '255_Torchic', '256_Combusken', '257_Blaziken', '258_Mudkip', '259_Marshtomp', '260_Swampert', '261_Poochyena',\n",
    " '262_Mightyena', '263_Zigzagoon', '264_Linoone', '265_Wurmple', '266_Silcoon', '267_Beautifly', '268_Cascoon',\n",
    " '269_Dustox', '270_Lotad', '271_Lombre', '272_Ludicolo', '273_Seedot', '274_Nuzleaf', '275_Shiftry', '276_Taillow',\n",
    " '277_Swellow', '278_Wingull', '279_Pelipper', '280_Ralts', '281_Kirlia', '282_Gardevoir', '283_Surskit', '284_Masquerain',\n",
    " '285_Shroomish', '286_Breloom', '287_Slakoth', '288_Vigoroth', '289_Slaking', '290_Nincada', '291_Ninjask',\n",
    " '292_Shedinja', '293_Whismur', '294_Loudred', '295_Exploud', '296_Makuhita', '297_Hariyama', '298_Azurill',\n",
    " '299_Nosepass', '300_Skitty', '301_Delcatty', '302_Sableye', '303_Mawile', '304_Aron', '305_Lairon', '306_Aggron',\n",
    " '307_Meditite', '308_Medicham', '309_Electrike', '310_Manectric', '311_Plusle', '312_Minun', '313_Volbeat',\n",
    " '314_Illumise', '315_Roselia', '316_Gulpin', '317_Swalot', '318_Carvanha', '319_Sharpedo', '320_Wailmer',\n",
    " '321_Wailord', '322_Numel', '323_Camerupt', '324_Torkoal', '325_Spoink', '326_Grumpig', '327_Spinda',\n",
    " '328_Trapinch', '329_Vibrava', '330_Flygon', '331_Cacnea', '332_Cacturne', '333_Swablu', '334_Altaria', '335_Zangoose',\n",
    " '336_Seviper', '337_Lunatone', '338_Solrock', '339_Barboach', '340_Whiscash', '341_Corphish', '342_Crawdaunt',\n",
    " '343_Baltoy', '344_Claydol', '345_Lileep', '346_Cradily', '347_Anorith', '348_Armaldo', '349_Feebas', '350_Milotic',\n",
    " '351_Castform', '352_Kecleon', '353_Shuppet', '354_Banette', '355_Duskull', '356_Dusclops', '357_Tropius', '358_Chimecho',\n",
    " '359_Absol', '360_Wynaut', '361_Snorunt', '362_Glalie', '363_Spheal', '364_Sealeo', '365_Walrein', '366_Clamperl',\n",
    " '367_Huntail', '368_Gorebyss', '369_Relicanth', '370_Luvdisc', '371_Bagon', '372_Shelgon', '373_Salamence', '374_Beldum',\n",
    " '375_Metang', '376_Metagross', '377_Regirock', '378_Regice', '379_Registeel', '380_Latias', '381_Latios', '382_Kyogre',\n",
    " '383_Groudon', '384_Rayquaza', '385_Jirachi', '386_Deoxys', '387_Turtwig', '388_Grotle', '389_Torterra', '390_Chimchar',\n",
    " '391_Monferno', '392_Infernape', '393_Piplup', '394_Prinplup', '395_Empoleon', '396_Starly', '397_Staravia', '398_Staraptor',\n",
    " '399_Bidoof', '400_Bibarel', '401_Kricketot', '402_Kricketune', '403_Shinx', '404_Luxio', '405_Luxray',\n",
    " '406_Budew', '407_Roserade', '408_Cranidos', '409_Rampardos', '410_Shieldon', '411_Bastiodon', '412_Burmy', '413_Wormadam',\n",
    " '414_Mothim', '415_Combee', '416_Vespiquen', '417_Pachirisu', '418_Buizel', '419_Floatzel', '420_Cherubi', '421_Cherrim',\n",
    " '422_Shellos', '423_Gastrodon', '424_Ambipom', '425_Drifloon', '426_Drifblim', '427_Buneary', '428_Lopunny',\n",
    " '429_Mismagius', '430_Honchkrow', '431_Glameow', '432_Purugly', '433_Chingling', '434_Stunky', '435_Skuntank',\n",
    " '436_Bronzor', '437_Bronzong', '438_Bonsly', '439_Mime Jr.', '440_Happiny', '441_Chatot', '442_Spiritomb', '443_Gible',\n",
    " '444_Gabite', '445_Garchomp', '446_Munchlax', '447_Riolu', '448_Lucario', '449_Hippopotas', '450_Hippowdon', '451_Skorupi',\n",
    " '452_Drapion', '453_Croagunk', '454_Toxicroak', '455_Carnivine', '456_Finneon', '457_Lumineon', '458_Mantyke',\n",
    " '459_Snover', '460_Abomasnow', '461_Weavile', '462_Magnezone', '463_Lickilicky', '464_Rhyperior', '465_Tangrowth',\n",
    " '466_Electivire', '467_Magmortar', '468_Togekiss', '469_Yanmega', '470_Leafeon', '471_Glaceon', '472_Gliscor', '473_Mamoswine',\n",
    " '474_Porygon-Z', '475_Gallade', '476_Probopass', '477_Dusknoir', '478_Froslass', '479_Rotom', '480_Uxie', '481_Mesprit',\n",
    " '482_Azelf', '483_Dialga', '484_Palkia', '485_Heatran', '486_Regigigas', '487_Giratina', '488_Cresselia', '489_Phione',\n",
    " '490_Manaphy', '491_Darkrai', '492_Shaymin', '493_Arceus', '494_Victini', '495_Snivy', '496_Servine', '497_Serperior', '498_Tepig',\n",
    " '499_Pignite', '500_Emboar', '501_Oshawott', '502_Dewott', '503_Samurott', '504_Patrat', '505_Watchog',\n",
    " '506_Lillipup', '507_Herdier', '508_Stoutland', '509_Purrloin', '510_Liepard', '511_Pansage', '512_Simisage',\n",
    " '513_Pansear', '514_Simisear', '515_Panpour', '516_Simipour', '517_Munna', '518_Musharna', '519_Pidove', '520_Tranquill',\n",
    " '521_Unfezant', '522_Blitzle', '523_Zebstrika', '524_Roggenrola', '525_Boldore', '526_Gigalith', '527_Woobat',\n",
    " '528_Swoobat', '529_Drilbur', '530_Excadrill', '531_Audino', '532_Timburr', '533_Gurdurr', '534_Conkeldurr',\n",
    " '535_Tympole', '536_Palpitoad', '537_Seismitoad', '538_Throh', '539_Sawk', '540_Sewaddle', '541_Swadloon', '542_Leavanny',\n",
    " '543_Venipede', '544_Whirlipede', '545_Scolipede', '546_Cottonee', '547_Whimsicott', '548_Petilil', '549_Lilligant', \n",
    " '550_Basculin', '551_Sandile', '552_Krokorok', '553_Krookodile', '554_Darumaka', '555_Darmanitan', '556_Maractus',\n",
    " '557_Dwebble', '558_Crustle', '559_Scraggy', '560_Scrafty', '561_Sigilyph', '562_Yamask', '563_Cofagrigus',\n",
    " '564_Tirtouga', '565_Carracosta', '566_Archen', '567_Archeops', '568_Trubbish', '569_Garbodor', '570_Zorua', '571_Zoroark',\n",
    " '572_Minccino', '573_Cinccino', '574_Gothita', '575_Gothorita', '576_Gothitelle', '577_Solosis',\n",
    " '578_Duosion', '579_Reuniclus', '580_Ducklett', '581_Swanna', '582_Vanillite', '583_Vanillish', '584_Vanilluxe',\n",
    " '585_Deerling', '586_Sawsbuck', '587_Emolga', '588_Karrablast', '589_Escavalier', '590_Foongus', '591_Amoonguss',\n",
    " '592_Frillish', '593_Jellicent', '594_Alomomola', '595_Joltik', '596_Galvantula', '597_Ferroseed', '598_Ferrothorn',\n",
    " '599_Klink', '600_Klang', '601_Klinklang', '602_Tynamo', '603_Eelektrik', '604_Eelektross', '605_Elgyem',\n",
    " '606_Beheeyem', '607_Litwick', '608_Lampent', '609_Chandelure', '610_Axew', '611_Fraxure', '612_Haxorus', '613_Cubchoo',\n",
    " '614_Beartic', '615_Cryogonal', '616_Shelmet', '617_Accelgor', '618_Stunfisk', '619_Mienfoo', '620_Mienshao',\n",
    " '621_Druddigon', '622_Golett', '623_Golurk', '624_Pawniard', '625_Bisharp', '626_Bouffalant', '627_Rufflet',\n",
    " '628_Braviary', '629_Vullaby', '630_Mandibuzz', '631_Heatmor', '632_Durant', '633_Deino', '634_Zweilous',\n",
    " '635_Hydreigon', '636_Larvesta', '637_Volcarona', '638_Cobalion', '639_Terrakion', '640_Virizion', '641_Tornadus',\n",
    " '642_Thundurus', '643_Reshiram', '644_Zekrom', '645_Landorus', '646_Kyurem', '647_Keldeo', '648_Meloetta', '649_Genesect',\n",
    " '650_Chespin', '651_Quilladin', '652_Chesnaught', '653_Fennekin', '654_Braixen', '655_Delphox', '656_Froakie',\n",
    " '657_Frogadier', '658_Greninja', '659_Bunnelby', '660_Diggersby', '661_Fletchling', '662_Fletchinder',\n",
    " '663_Talonflame', '664_Scatterbug', '665_Spewpa', '666_Vivillon', '667_Litleo', '668_Pyroar', '669_Flabébé',\n",
    " '670_Floette', '671_Florges', '672_Skiddo', '673_Gogoat', '674_Pancham', '675_Pangoro', '676_Furfrou', '677_Espurr',\n",
    " '678_Meowstic', '679_Honedge', '680_Doublade', '681_Aegislash', '682_Spritzee', '683_Aromatisse', '684_Swirlix',\n",
    " '685_Slurpuff', '686_Inkay', '687_Malamar', '688_Binacle', '689_Barbaracle', '690_Skrelp', '691_Dragalge', '692_Clauncher',\n",
    " '693_Clawitzer', '694_Helioptile', '695_Heliolisk', '696_Tyrunt', '697_Tyrantrum', '698_Amaura', '699_Aurorus', \n",
    " '700_Sylveon', '701_Hawlucha', '702_Dedenne', '703_Carbink', '704_Goomy', '705_Sliggoo', '706_Goodra', '707_Klefki',\n",
    " '708_Phantump', '709_Trevenant', '710_Pumpkaboo', '711_Gourgeist', '712_Bergmite', '713_Avalugg',\n",
    " '714_Noibat', '715_Noivern', '716_Xerneas', '717_Yveltal', '718_Zygarde', '719_Diancie', '720_Hoopa', '721_Volcanion',\n",
    " '722_Rowlet', '723_Dartrix', '724_Decidueye', '725_Litten', '726_Torracat', '727_Incineroar', '728_Popplio',\n",
    " '729_Brionne', '730_Primarina', '731_Pikipek', '732_Trumbeak', '733_Toucannon', '734_Yungoos', '735_Gumshoos',\n",
    " '736_Grubbin', '737_Charjabug', '738_Vikavolt', '739_Crabrawler', '740_Crabominable', '741_Oricorio', '742_Cutiefly',\n",
    " '743_Ribombee', '744_Rockruff', '745_Lycanroc', '746_Wishiwashi', '747_Mareanie', '748_Toxapex', '749_Mudbray',\n",
    " '750_Mudsdale', '751_Dewpider', '752_Araquanid', '753_Fomantis', '754_Lurantis', '755_Morelull', '756_Shiinotic',\n",
    " '757_Salandit', '758_Salazzle', '759_Stufful', '760_Bewear', '761_Bounsweet', '762_Steenee', '763_Tsareena',\n",
    " '764_Comfey', '765_Oranguru', '766_Passimian', '767_Wimpod', '768_Golisopod', '769_Sandygast', '770_Palossand',\n",
    " '771_Pyukumuku', '772_Type_Null', '773_Silvally', '774_Minior', '775_Komala', '776_Turtonator', '777_Togedemaru',\n",
    " '778_Mimikyu', '779_Bruxish', '780_Drampa', '781_Dhelmise', '782_Jangmo-o', '783_Hakamo-o', '784_Kommo-o',\n",
    " '785_Tapu Koko', '786_Tapu Lele', '787_Tapu Bulu', '788_Tapu Fini', '789_Cosmog', '790_Cosmoem', '791_Solgaleo',\n",
    " '792_Lunala', '793_Nihilego', '794_Buzzwole', '795_Pheromosa', '796_Xurkitree', '797_Celesteela', '798_Kartana',\n",
    " '799_Guzzlord', '800_Necrozma', '801_Magearna', '802_Marshadow', '803_Poipole', '804_Naganadel', '805_Stakataka',\n",
    " '806_Blacephalon', '807_Zeraora', '808_Meltan', '809_Melmetal', '810_Grookey', '811_Thwackey', '812_Rillaboom',\n",
    " '813_Scorbunny', '814_Raboot', '815_Cinderace', '816_Sobble', '817_Drizzile', '818_Inteleon', '819_Skwovet',\n",
    " '820_Greedent', '821_Rookidee', '822_Corvisquire', '823_Corviknight', '824_Blipbug', '825_Dottler', '826_Orbeetle',\n",
    " '827_Nickit', '828_Thievul', '829_Gossifleur', '830_Eldegoss', '831_Wooloo', '832_Dubwool', '833_Chewtle', '834_Drednaw',\n",
    " '835_Yamper', '836_Boltund', '837_Rolycoly', '838_Carkol', '839_Coalossal', '840_Applin', '841_Flapple', '842_Appletun',\n",
    " '843_Silicobra', '844_Sandaconda', '845_Cramorant', '846_Arrokuda', '847_Barraskewda', '848_Toxel', '849_Toxtricity',\n",
    " '850_Sizzlipede', '851_Centiskorch', '852_Clobbopus', '853_Grapploct', '854_Sinistea', '855_Polteageist',\n",
    " '856_Hatenna', '857_Hattrem', '858_Hatterene', '859_Impidimp', '860_Morgrem', '861_Grimmsnarl', '862_Obstagoon',\n",
    " '863_Perrserker', '864_Cursola', \"865_Sirfetch'd\", '866_Mr. Rime', '867_Runerigus', '868_Milcery', '869_Alcremie',\n",
    " '870_Falinks', '871_Pincurchin', '872_Snom', '873_Frosmoth', '874_Stonjourner', '875_Eiscue', '876_Indeedee',\n",
    " '877_Morpeko', '878_Cufant', '879_Copperajah', '880_Dracozolt', '881_Arctozolt', '882_Dracovish', '883_Arctovish',\n",
    " '884_Duraludon', '885_Dreepy', '886_Drakloak', '887_Dragapult', '888_Zacian', '889_Zamazenta', '890_Eternatus']"
   ]
  },
  {
   "cell_type": "code",
   "execution_count": 6,
   "metadata": {},
   "outputs": [
    {
     "name": "stdout",
     "output_type": "stream",
     "text": [
      "When we filter the images which bigger than (90, 90, 3)\n",
      "We have 94 pokemon containing more than 3 images\n"
     ]
    }
   ],
   "source": [
    "# if image smaller than x, then we will not use them\n",
    "# this section shows how many images will left in each pokemon\n",
    "filter_standard = (90,90,3)\n",
    "\n",
    "# filter_df = pd.DataFrame(columns = ['pokemon name', 'amount'])\n",
    "pokemon_name_list = []\n",
    "count_list = []\n",
    "\n",
    "for name in folder_name_list:\n",
    "    path = './Pokemon Dataset (convert to png files)/{}'.format(name)\n",
    "    if os.path.exists(path):\n",
    "        onlyfiles = [f for f in listdir(path) if isfile(join(path, f))]\n",
    "        count = 0\n",
    "        for i in range(len(onlyfiles)):\n",
    "            image = np.asarray(Image.open('./Pokemon Dataset (convert to png files)/{}/{}'.format(name, onlyfiles[i])))\n",
    "            if image.shape > filter_standard:\n",
    "                count += 1\n",
    "        pokemon_name_list.append(name)\n",
    "        count_list.append(count)\n",
    "        \n",
    "\n",
    "print('When we filter the images which bigger than {}'.format(filter_standard))        \n",
    "print('We have {} pokemon containing more than 3 images'.format(len([i for i in count_list if i >= 7])))"
   ]
  },
  {
   "cell_type": "code",
   "execution_count": 7,
   "metadata": {},
   "outputs": [
    {
     "data": {
      "text/html": [
       "<div>\n",
       "<style scoped>\n",
       "    .dataframe tbody tr th:only-of-type {\n",
       "        vertical-align: middle;\n",
       "    }\n",
       "\n",
       "    .dataframe tbody tr th {\n",
       "        vertical-align: top;\n",
       "    }\n",
       "\n",
       "    .dataframe thead th {\n",
       "        text-align: right;\n",
       "    }\n",
       "</style>\n",
       "<table border=\"1\" class=\"dataframe\">\n",
       "  <thead>\n",
       "    <tr style=\"text-align: right;\">\n",
       "      <th></th>\n",
       "      <th>pokemon name</th>\n",
       "      <th>amount</th>\n",
       "    </tr>\n",
       "  </thead>\n",
       "  <tbody>\n",
       "    <tr>\n",
       "      <th>0</th>\n",
       "      <td>008_Wartortle</td>\n",
       "      <td>9</td>\n",
       "    </tr>\n",
       "    <tr>\n",
       "      <th>1</th>\n",
       "      <td>010_Caterpie</td>\n",
       "      <td>9</td>\n",
       "    </tr>\n",
       "    <tr>\n",
       "      <th>2</th>\n",
       "      <td>011_Metapod</td>\n",
       "      <td>10</td>\n",
       "    </tr>\n",
       "    <tr>\n",
       "      <th>3</th>\n",
       "      <td>023_Ekans</td>\n",
       "      <td>10</td>\n",
       "    </tr>\n",
       "    <tr>\n",
       "      <th>4</th>\n",
       "      <td>035_Clefairy</td>\n",
       "      <td>11</td>\n",
       "    </tr>\n",
       "    <tr>\n",
       "      <th>...</th>\n",
       "      <td>...</td>\n",
       "      <td>...</td>\n",
       "    </tr>\n",
       "    <tr>\n",
       "      <th>368</th>\n",
       "      <td>881_Arctozolt</td>\n",
       "      <td>3</td>\n",
       "    </tr>\n",
       "    <tr>\n",
       "      <th>369</th>\n",
       "      <td>883_Arctovish</td>\n",
       "      <td>1</td>\n",
       "    </tr>\n",
       "    <tr>\n",
       "      <th>370</th>\n",
       "      <td>885_Dreepy</td>\n",
       "      <td>1</td>\n",
       "    </tr>\n",
       "    <tr>\n",
       "      <th>371</th>\n",
       "      <td>886_Drakloak</td>\n",
       "      <td>1</td>\n",
       "    </tr>\n",
       "    <tr>\n",
       "      <th>372</th>\n",
       "      <td>887_Dragapult</td>\n",
       "      <td>3</td>\n",
       "    </tr>\n",
       "  </tbody>\n",
       "</table>\n",
       "<p>373 rows × 2 columns</p>\n",
       "</div>"
      ],
      "text/plain": [
       "      pokemon name  amount\n",
       "0    008_Wartortle       9\n",
       "1     010_Caterpie       9\n",
       "2      011_Metapod      10\n",
       "3        023_Ekans      10\n",
       "4     035_Clefairy      11\n",
       "..             ...     ...\n",
       "368  881_Arctozolt       3\n",
       "369  883_Arctovish       1\n",
       "370     885_Dreepy       1\n",
       "371   886_Drakloak       1\n",
       "372  887_Dragapult       3\n",
       "\n",
       "[373 rows x 2 columns]"
      ]
     },
     "execution_count": 7,
     "metadata": {},
     "output_type": "execute_result"
    }
   ],
   "source": [
    "filter_df = pd.DataFrame({'pokemon name': pokemon_name_list, 'amount': count_list})\n",
    "filter_df"
   ]
  },
  {
   "cell_type": "markdown",
   "metadata": {},
   "source": [
    "# Dataset"
   ]
  },
  {
   "cell_type": "markdown",
   "metadata": {},
   "source": [
    "## Get the dataset we need for building CNN below"
   ]
  },
  {
   "cell_type": "code",
   "execution_count": 8,
   "metadata": {},
   "outputs": [],
   "source": [
    "x = []\n",
    "y = []\n",
    "name_list = []\n",
    "classes = 0\n",
    "for name in folder_name_list:\n",
    "    path = './Pokemon Dataset (convert to png files)/{}'.format(name)\n",
    "    if os.path.exists(path):\n",
    "        onlyfiles = [f for f in listdir(path) if isfile(join(path, f))]\n",
    "        for i in range(len(onlyfiles)):\n",
    "            image = np.asarray(Image.open('./Pokemon Dataset (convert to png files)/{}/{}'.format(name, onlyfiles[i])))\n",
    "            # if image size is bigger than the standard and the image amount of that pokemon is more than or equal to 7\n",
    "            if (image.shape > filter_standard) & (pokemon_name_list.index(name) \n",
    "                                                  not in filter_df[filter_df['amount'] < 7].index):\n",
    "                temp = Image.open('./Pokemon Dataset (convert to png files)/{}/{}'.\n",
    "                                  format(name, onlyfiles[i])).resize((90,90), Image.ANTIALIAS)\n",
    "                x.append(np.asarray(temp))\n",
    "                y.append(classes)\n",
    "                name_list.append(name)\n",
    "        classes += 1\n",
    "x = np.asarray(x)\n",
    "y = np.asarray(y)"
   ]
  },
  {
   "cell_type": "code",
   "execution_count": 9,
   "metadata": {},
   "outputs": [
    {
     "data": {
      "text/plain": [
       "array([ 0,  0,  0,  0,  0,  0,  0,  0,  0,  1,  1,  1,  1,  1,  1,  1,  1,\n",
       "        1,  2,  2,  2,  2,  2,  2,  2,  2,  2,  2,  3,  3,  3,  3,  3,  3,\n",
       "        3,  3,  3,  3,  4,  4,  4,  4,  4,  4,  4,  4,  4,  4,  4,  5,  5,\n",
       "        5,  5,  5,  5,  5,  5,  5,  5,  5,  5,  5,  5,  6,  6,  6,  6,  6,\n",
       "        6,  6,  6,  6,  6,  6,  6,  7,  7,  7,  7,  7,  7,  7,  7,  7,  7,\n",
       "        8,  8,  8,  8,  8,  8,  8,  8,  8,  9,  9,  9,  9,  9,  9,  9,  9,\n",
       "        9, 10, 10, 10, 10, 10, 10, 10, 10, 11, 11, 11, 11, 11, 11, 11, 11,\n",
       "       11, 12, 12, 12, 12, 12, 12, 12, 12, 12, 13, 13, 13, 13, 13, 13, 13,\n",
       "       13, 13, 14, 14, 14, 14, 14, 14, 14, 14, 14, 15, 15, 15, 15, 15, 15,\n",
       "       15, 16, 16, 16, 16, 16, 16, 16, 16, 16, 17, 17, 17, 17, 17, 17, 17,\n",
       "       17, 17, 17, 18, 18, 18, 18, 18, 18, 18, 18, 18, 18, 18, 18, 19, 19,\n",
       "       19, 19, 19, 19, 19, 20, 20, 20, 20, 20, 20, 20, 20, 21, 21, 21, 21,\n",
       "       21, 21, 21, 21, 21, 22, 22, 22, 22, 22, 22, 22, 23, 23, 23, 23, 23,\n",
       "       23, 23, 23, 23, 23, 24, 24, 24, 24, 24, 24, 24, 24, 24, 25, 25, 25,\n",
       "       25, 25, 25, 25, 25, 25, 25, 25, 25, 25, 25, 25, 25, 25, 25, 25, 25,\n",
       "       25, 25, 25, 25, 25, 25, 25, 25, 25, 25, 26, 26, 26, 26, 26, 26, 26,\n",
       "       26, 27, 27, 27, 27, 27, 27, 27, 27, 27, 28, 28, 28, 28, 28, 28, 28,\n",
       "       28, 28, 28, 28, 29, 29, 29, 29, 29, 29, 29, 29, 29, 30, 30, 30, 30,\n",
       "       30, 30, 30, 30, 30, 30, 30, 30, 30, 30, 30, 31, 31, 31, 31, 31, 31,\n",
       "       31, 32, 32, 32, 32, 32, 32, 32, 33, 33, 33, 33, 33, 33, 33, 34, 34,\n",
       "       34, 34, 34, 34, 34, 35, 35, 35, 35, 35, 35, 35, 36, 36, 36, 36, 36,\n",
       "       36, 36, 37, 37, 37, 37, 37, 37, 37, 37, 37, 37, 37, 37, 37, 37, 38,\n",
       "       38, 38, 38, 38, 38, 38, 38, 38, 39, 39, 39, 39, 39, 39, 39, 40, 40,\n",
       "       40, 40, 40, 40, 40, 41, 41, 41, 41, 41, 41, 41, 41, 42, 42, 42, 42,\n",
       "       42, 42, 42, 42, 42, 43, 43, 43, 43, 43, 43, 43, 43, 44, 44, 44, 44,\n",
       "       44, 44, 44, 45, 45, 45, 45, 45, 45, 45, 45, 45, 45, 45, 45, 45, 45,\n",
       "       45, 45, 45, 45, 46, 46, 46, 46, 46, 46, 46, 46, 46, 46, 46, 46, 46,\n",
       "       46, 46, 46, 46, 46, 47, 47, 47, 47, 47, 47, 47, 47, 47, 47, 48, 48,\n",
       "       48, 48, 48, 48, 48, 49, 49, 49, 49, 49, 49, 49, 50, 50, 50, 50, 50,\n",
       "       50, 50, 50, 51, 51, 51, 51, 51, 51, 51, 52, 52, 52, 52, 52, 52, 52,\n",
       "       52, 53, 53, 53, 53, 53, 53, 53, 53, 53, 54, 54, 54, 54, 54, 54, 54,\n",
       "       55, 55, 55, 55, 55, 55, 55, 55, 55, 55, 55, 55, 56, 56, 56, 56, 56,\n",
       "       56, 56, 56, 56, 57, 57, 57, 57, 57, 57, 57, 58, 58, 58, 58, 58, 58,\n",
       "       58, 58, 59, 59, 59, 59, 59, 59, 59, 60, 60, 60, 60, 60, 60, 60, 61,\n",
       "       61, 61, 61, 61, 61, 61, 61, 61, 61, 62, 62, 62, 62, 62, 62, 62, 62,\n",
       "       62, 62, 62, 62, 62, 62, 63, 63, 63, 63, 63, 63, 63, 64, 64, 64, 64,\n",
       "       64, 64, 64, 65, 65, 65, 65, 65, 65, 65, 66, 66, 66, 66, 66, 66, 66,\n",
       "       67, 67, 67, 67, 67, 67, 67, 67, 67, 67, 67, 67, 67, 67, 67, 67, 67,\n",
       "       67, 67, 67, 67, 67, 67, 67, 67, 68, 68, 68, 68, 68, 68, 68, 69, 69,\n",
       "       69, 69, 69, 69, 69, 69, 70, 70, 70, 70, 70, 70, 70, 71, 71, 71, 71,\n",
       "       71, 71, 71, 72, 72, 72, 72, 72, 72, 72, 73, 73, 73, 73, 73, 73, 73,\n",
       "       73, 73, 74, 74, 74, 74, 74, 74, 74, 74, 74, 74, 75, 75, 75, 75, 75,\n",
       "       75, 75, 76, 76, 76, 76, 76, 76, 76, 76, 76, 76, 76, 77, 77, 77, 77,\n",
       "       77, 77, 77, 77, 77, 78, 78, 78, 78, 78, 78, 78, 78, 78, 78, 78, 78,\n",
       "       78, 78, 78, 78, 78, 78, 79, 79, 79, 79, 79, 79, 79, 79, 79, 79, 79,\n",
       "       79, 79, 79, 79, 79, 79, 80, 80, 80, 80, 80, 80, 80, 81, 81, 81, 81,\n",
       "       81, 81, 81, 81, 81, 81, 82, 82, 82, 82, 82, 82, 82, 83, 83, 83, 83,\n",
       "       83, 83, 83, 83, 84, 84, 84, 84, 84, 84, 84, 85, 85, 85, 85, 85, 85,\n",
       "       85, 86, 86, 86, 86, 86, 86, 86, 86, 86, 86, 86, 87, 87, 87, 87, 87,\n",
       "       87, 87, 88, 88, 88, 88, 88, 88, 88, 89, 89, 89, 89, 89, 89, 89, 89,\n",
       "       90, 90, 90, 90, 90, 90, 90, 91, 91, 91, 91, 91, 91, 91, 92, 92, 92,\n",
       "       92, 92, 92, 92, 93, 93, 93, 93, 93, 93, 93])"
      ]
     },
     "execution_count": 9,
     "metadata": {},
     "output_type": "execute_result"
    }
   ],
   "source": [
    "class_encode = []\n",
    "for i in y:\n",
    "    for j in np.unique(y):\n",
    "        if i == j:\n",
    "            class_encode.append(list(np.unique(y)).index(j))\n",
    "np.array(class_encode)"
   ]
  },
  {
   "cell_type": "markdown",
   "metadata": {},
   "source": [
    "## Split data"
   ]
  },
  {
   "cell_type": "code",
   "execution_count": 10,
   "metadata": {},
   "outputs": [
    {
     "name": "stderr",
     "output_type": "stream",
     "text": [
      "Using TensorFlow backend.\n"
     ]
    }
   ],
   "source": [
    "train_images, test_images, train_labels, test_labels = train_test_split(x, class_encode, test_size = 0.2, \n",
    "                                                                        random_state = 42, stratify = class_encode)\n",
    "# # Normalize pixel values to be between 0 and 1\n",
    "train_images, test_images = train_images / 255.0, test_images / 255.0\n",
    "train_labels_org = train_labels\n",
    "test_labels_org = test_labels\n",
    "\n",
    "\n",
    "from keras.utils import np_utils\n",
    "train_labels = np_utils.to_categorical(train_labels)\n",
    "test_labels = np_utils.to_categorical(test_labels)"
   ]
  },
  {
   "cell_type": "markdown",
   "metadata": {},
   "source": [
    "## Pad and flip the data to get more data"
   ]
  },
  {
   "cell_type": "code",
   "execution_count": 11,
   "metadata": {},
   "outputs": [],
   "source": [
    "import tensorflow_addons as tfa\n",
    "\n",
    "train_images_list = []\n",
    "train_labels_list = []\n",
    "for i in range(len(train_images)):\n",
    "    # original image padding into bigger image\n",
    "    pad = tf.image.pad_to_bounding_box(train_images[i], 3, 3, 96, 96)\n",
    "    pad_arr = np.asarray(pad)\n",
    "    train_images_list.append(pad_arr)\n",
    "    train_labels_list.append(train_labels[i])\n",
    "    \n",
    "    # filp image left and right \n",
    "    flip = tf.image.flip_left_right(pad)\n",
    "    flip = np.asarray(flip)\n",
    "    train_images_list.append(flip)\n",
    "    train_labels_list.append(train_labels[i])\n",
    "    \n",
    "    # crop\n",
    "    crop = tf.image.crop_to_bounding_box(train_images[i], 10, 10, 80, 80) \n",
    "    crop = tf.image.pad_to_bounding_box(crop, 3, 3, 96, 96)\n",
    "    crop = np.asarray(crop) \n",
    "    train_images_list.append(crop)\n",
    "    train_labels_list.append(train_labels[i])\n",
    "    \n",
    "    # rotation left \n",
    "    rotate_left = tfa.image.rotate(pad, tf.constant(np.pi/8))\n",
    "    rotate_left = np.asarray(rotate_left)\n",
    "    train_images_list.append(rotate_left)\n",
    "    train_labels_list.append(train_labels[i])\n",
    "    \n",
    "    # rotation right \n",
    "    rotation_right = tfa.image.rotate(pad, -tf.constant(np.pi/8))\n",
    "    rotation_right = np.asarray(rotation_right)\n",
    "    train_images_list.append(rotation_right)\n",
    "    train_labels_list.append(train_labels[i])\n",
    "    \n",
    "train_images = np.asarray(train_images_list)\n",
    "train_labels = np.asarray(train_labels_list)"
   ]
  },
  {
   "cell_type": "code",
   "execution_count": 12,
   "metadata": {},
   "outputs": [],
   "source": [
    "test_images_list = []\n",
    "for i in range(len(test_images)):\n",
    "    # original image padding into bigger image\n",
    "    pad = tf.image.pad_to_bounding_box(test_images[i], 3, 3, 96, 96)\n",
    "    pad_arr = np.asarray(pad)\n",
    "    test_images_list.append(pad_arr)\n",
    "\n",
    "test_images = np.asarray(test_images_list)"
   ]
  },
  {
   "cell_type": "markdown",
   "metadata": {},
   "source": [
    "# Build model"
   ]
  },
  {
   "cell_type": "markdown",
   "metadata": {},
   "source": [
    "## Model 1 (Model 5 from 3.CNN but more epochs)"
   ]
  },
  {
   "cell_type": "code",
   "execution_count": 16,
   "metadata": {},
   "outputs": [
    {
     "name": "stdout",
     "output_type": "stream",
     "text": [
      "Model: \"sequential_1\"\n",
      "_________________________________________________________________\n",
      "Layer (type)                 Output Shape              Param #   \n",
      "=================================================================\n",
      "conv2d_5 (Conv2D)            (None, 96, 96, 16)        448       \n",
      "_________________________________________________________________\n",
      "batch_normalization_5 (Batch (None, 96, 96, 16)        64        \n",
      "_________________________________________________________________\n",
      "max_pooling2d_4 (MaxPooling2 (None, 48, 48, 16)        0         \n",
      "_________________________________________________________________\n",
      "dropout_5 (Dropout)          (None, 48, 48, 16)        0         \n",
      "_________________________________________________________________\n",
      "conv2d_6 (Conv2D)            (None, 48, 48, 32)        4640      \n",
      "_________________________________________________________________\n",
      "conv2d_7 (Conv2D)            (None, 48, 48, 32)        9248      \n",
      "_________________________________________________________________\n",
      "batch_normalization_6 (Batch (None, 48, 48, 32)        128       \n",
      "_________________________________________________________________\n",
      "max_pooling2d_5 (MaxPooling2 (None, 24, 24, 32)        0         \n",
      "_________________________________________________________________\n",
      "dropout_6 (Dropout)          (None, 24, 24, 32)        0         \n",
      "_________________________________________________________________\n",
      "conv2d_8 (Conv2D)            (None, 24, 24, 32)        9248      \n",
      "_________________________________________________________________\n",
      "batch_normalization_7 (Batch (None, 24, 24, 32)        128       \n",
      "_________________________________________________________________\n",
      "max_pooling2d_6 (MaxPooling2 (None, 12, 12, 32)        0         \n",
      "_________________________________________________________________\n",
      "dropout_7 (Dropout)          (None, 12, 12, 32)        0         \n",
      "_________________________________________________________________\n",
      "conv2d_9 (Conv2D)            (None, 12, 12, 64)        18496     \n",
      "_________________________________________________________________\n",
      "batch_normalization_8 (Batch (None, 12, 12, 64)        256       \n",
      "_________________________________________________________________\n",
      "max_pooling2d_7 (MaxPooling2 (None, 6, 6, 64)          0         \n",
      "_________________________________________________________________\n",
      "dropout_8 (Dropout)          (None, 6, 6, 64)          0         \n",
      "_________________________________________________________________\n",
      "flatten_1 (Flatten)          (None, 2304)              0         \n",
      "_________________________________________________________________\n",
      "dense_2 (Dense)              (None, 256)               590080    \n",
      "_________________________________________________________________\n",
      "batch_normalization_9 (Batch (None, 256)               1024      \n",
      "_________________________________________________________________\n",
      "dropout_9 (Dropout)          (None, 256)               0         \n",
      "_________________________________________________________________\n",
      "dense_3 (Dense)              (None, 94)                24158     \n",
      "=================================================================\n",
      "Total params: 657,918\n",
      "Trainable params: 657,118\n",
      "Non-trainable params: 800\n",
      "_________________________________________________________________\n"
     ]
    }
   ],
   "source": [
    "model = models.Sequential()\n",
    "model.add(layers.Conv2D(16, (3,3), padding = 'same', activation='relu', input_shape = (96, 96, 3)))\n",
    "model.add(layers.BatchNormalization())\n",
    "model.add(layers.MaxPool2D(2,2))\n",
    "model.add(layers.Dropout(0.25))\n",
    "\n",
    "model.add(layers.Conv2D(32, (3,3), padding = 'same', activation='relu', kernel_regularizer='l2', bias_regularizer='l2'))\n",
    "model.add(layers.Conv2D(32, (3,3), padding = 'same', activation='relu'))\n",
    "model.add(layers.BatchNormalization())\n",
    "model.add(layers.MaxPool2D(2,2))\n",
    "model.add(layers.Dropout(0.25))\n",
    "\n",
    "model.add(layers.Conv2D(32, (3,3), padding = 'same', activation='relu', kernel_regularizer='l2', bias_regularizer='l2'))\n",
    "model.add(layers.BatchNormalization())\n",
    "model.add(layers.MaxPool2D(2,2))\n",
    "model.add(layers.Dropout(0.25))\n",
    "\n",
    "model.add(layers.Conv2D(64, (3,3), padding = 'same', activation='relu', kernel_regularizer='l2', bias_regularizer='l2'))\n",
    "model.add(layers.BatchNormalization())\n",
    "model.add(layers.MaxPool2D(2,2))\n",
    "model.add(layers.Dropout(0.25))\n",
    "\n",
    "\n",
    "model.add(layers.Flatten())\n",
    "\n",
    "model.add(layers.Dense(256, kernel_regularizer='l2', bias_regularizer='l2', activation='relu'))\n",
    "model.add(layers.BatchNormalization())\n",
    "model.add(layers.Dropout(0.5))\n",
    "\n",
    "model.add(layers.Dense(len(np.unique(y)), activation='softmax'))\n",
    "\n",
    "model.compile(optimizers.Adam(lr=0.0001), loss='categorical_crossentropy', metrics=[\"accuracy\"])\n",
    "\n",
    "model.summary()"
   ]
  },
  {
   "cell_type": "code",
   "execution_count": 17,
   "metadata": {},
   "outputs": [
    {
     "data": {
      "image/png": "[encoded data removed]",
      "text/plain": [
       "<IPython.core.display.Image object>"
      ]
     },
     "execution_count": 17,
     "metadata": {},
     "output_type": "execute_result"
    }
   ],
   "source": [
    "import os\n",
    "os.environ['PATH'] = os.environ['PATH']+';'+os.environ['CONDA_PREFIX']+r\"\\Library\\bin\\graphviz\"\n",
    "plot_model(model, to_file='Model_7_images.png')"
   ]
  },
  {
   "cell_type": "code",
   "execution_count": 18,
   "metadata": {},
   "outputs": [
    {
     "name": "stdout",
     "output_type": "stream",
     "text": [
      "Epoch 1/100\n",
      "110/110 [==============================] - 7s 64ms/step - loss: 11.1430 - accuracy: 0.0162 - val_loss: 10.2285 - val_accuracy: 0.0114\n",
      "Epoch 2/100\n",
      "110/110 [==============================] - 7s 62ms/step - loss: 10.4880 - accuracy: 0.0379 - val_loss: 10.3409 - val_accuracy: 0.0227\n",
      "Epoch 3/100\n",
      "110/110 [==============================] - 7s 62ms/step - loss: 9.9294 - accuracy: 0.0652 - val_loss: 10.2974 - val_accuracy: 0.0284\n",
      "Epoch 4/100\n",
      "110/110 [==============================] - 7s 63ms/step - loss: 9.3631 - accuracy: 0.1074 - val_loss: 10.3036 - val_accuracy: 0.0341\n",
      "Epoch 5/100\n",
      "110/110 [==============================] - 7s 63ms/step - loss: 8.9420 - accuracy: 0.1390 - val_loss: 9.7698 - val_accuracy: 0.0568\n",
      "Epoch 6/100\n",
      "110/110 [==============================] - 7s 63ms/step - loss: 8.5473 - accuracy: 0.1695 - val_loss: 8.9309 - val_accuracy: 0.1136\n",
      "Epoch 7/100\n",
      "110/110 [==============================] - 7s 62ms/step - loss: 8.1479 - accuracy: 0.2009 - val_loss: 8.3153 - val_accuracy: 0.1818\n",
      "Epoch 8/100\n",
      "110/110 [==============================] - 7s 63ms/step - loss: 7.8198 - accuracy: 0.2479 - val_loss: 8.2696 - val_accuracy: 0.1989\n",
      "Epoch 9/100\n",
      "110/110 [==============================] - 7s 63ms/step - loss: 7.4799 - accuracy: 0.2846 - val_loss: 8.1892 - val_accuracy: 0.2557\n",
      "Epoch 10/100\n",
      "110/110 [==============================] - 7s 63ms/step - loss: 7.1142 - accuracy: 0.3359 - val_loss: 7.7424 - val_accuracy: 0.2557\n",
      "Epoch 11/100\n",
      "110/110 [==============================] - 7s 63ms/step - loss: 6.8120 - accuracy: 0.3954 - val_loss: 7.6661 - val_accuracy: 0.3239\n",
      "Epoch 12/100\n",
      "110/110 [==============================] - 7s 63ms/step - loss: 6.5360 - accuracy: 0.4256 - val_loss: 7.6189 - val_accuracy: 0.3125\n",
      "Epoch 13/100\n",
      "110/110 [==============================] - 7s 63ms/step - loss: 6.2657 - accuracy: 0.4630 - val_loss: 7.1630 - val_accuracy: 0.3239\n",
      "Epoch 14/100\n",
      "110/110 [==============================] - 7s 63ms/step - loss: 6.0061 - accuracy: 0.4815 - val_loss: 6.7378 - val_accuracy: 0.3977\n",
      "Epoch 15/100\n",
      "110/110 [==============================] - 7s 63ms/step - loss: 5.7550 - accuracy: 0.5268 - val_loss: 6.6528 - val_accuracy: 0.3807\n",
      "Epoch 16/100\n",
      "110/110 [==============================] - 7s 63ms/step - loss: 5.5491 - accuracy: 0.5584 - val_loss: 6.1647 - val_accuracy: 0.4375\n",
      "Epoch 17/100\n",
      "110/110 [==============================] - 7s 63ms/step - loss: 5.3351 - accuracy: 0.5783 - val_loss: 6.0880 - val_accuracy: 0.4545\n",
      "Epoch 18/100\n",
      "110/110 [==============================] - 7s 63ms/step - loss: 5.1102 - accuracy: 0.6085 - val_loss: 5.7949 - val_accuracy: 0.5000\n",
      "Epoch 19/100\n",
      "110/110 [==============================] - 7s 63ms/step - loss: 4.9196 - accuracy: 0.6199 - val_loss: 5.4937 - val_accuracy: 0.5227\n",
      "Epoch 20/100\n",
      "110/110 [==============================] - 7s 63ms/step - loss: 4.7640 - accuracy: 0.6376 - val_loss: 5.2357 - val_accuracy: 0.5455\n",
      "Epoch 21/100\n",
      "110/110 [==============================] - 7s 63ms/step - loss: 4.5455 - accuracy: 0.6769 - val_loss: 4.9198 - val_accuracy: 0.6023\n",
      "Epoch 22/100\n",
      "110/110 [==============================] - 7s 63ms/step - loss: 4.3819 - accuracy: 0.6960 - val_loss: 4.7808 - val_accuracy: 0.6193\n",
      "Epoch 23/100\n",
      "110/110 [==============================] - 7s 62ms/step - loss: 4.2337 - accuracy: 0.7031 - val_loss: 4.5807 - val_accuracy: 0.6420\n",
      "Epoch 24/100\n",
      "110/110 [==============================] - 7s 63ms/step - loss: 4.0571 - accuracy: 0.7157 - val_loss: 4.3691 - val_accuracy: 0.6364\n",
      "Epoch 25/100\n",
      "110/110 [==============================] - 7s 65ms/step - loss: 3.9048 - accuracy: 0.7402 - val_loss: 4.3573 - val_accuracy: 0.6250\n",
      "Epoch 26/100\n",
      "110/110 [==============================] - 7s 64ms/step - loss: 3.7817 - accuracy: 0.7476 - val_loss: 4.1344 - val_accuracy: 0.6705\n",
      "Epoch 27/100\n",
      "110/110 [==============================] - 7s 64ms/step - loss: 3.6388 - accuracy: 0.7681 - val_loss: 3.8641 - val_accuracy: 0.7045\n",
      "Epoch 28/100\n",
      "110/110 [==============================] - 7s 63ms/step - loss: 3.4778 - accuracy: 0.7906 - val_loss: 3.7959 - val_accuracy: 0.6932\n",
      "Epoch 29/100\n",
      "110/110 [==============================] - 7s 63ms/step - loss: 3.3363 - accuracy: 0.8006 - val_loss: 3.7366 - val_accuracy: 0.7102\n",
      "Epoch 30/100\n",
      "110/110 [==============================] - 7s 63ms/step - loss: 3.2349 - accuracy: 0.8046 - val_loss: 3.5787 - val_accuracy: 0.7216\n",
      "Epoch 31/100\n",
      "110/110 [==============================] - 7s 63ms/step - loss: 3.1010 - accuracy: 0.8262 - val_loss: 3.4558 - val_accuracy: 0.7045\n",
      "Epoch 32/100\n",
      "110/110 [==============================] - 7s 64ms/step - loss: 2.9876 - accuracy: 0.8217 - val_loss: 3.3264 - val_accuracy: 0.7273\n",
      "Epoch 33/100\n",
      "110/110 [==============================] - 7s 64ms/step - loss: 2.8919 - accuracy: 0.8296 - val_loss: 3.1245 - val_accuracy: 0.7557\n",
      "Epoch 34/100\n",
      "110/110 [==============================] - 7s 63ms/step - loss: 2.7697 - accuracy: 0.8442 - val_loss: 3.0513 - val_accuracy: 0.7557\n",
      "Epoch 35/100\n",
      "110/110 [==============================] - 7s 64ms/step - loss: 2.6767 - accuracy: 0.8453 - val_loss: 2.9538 - val_accuracy: 0.7841\n",
      "Epoch 36/100\n",
      "110/110 [==============================] - 7s 63ms/step - loss: 2.5795 - accuracy: 0.8593 - val_loss: 2.8546 - val_accuracy: 0.7784\n",
      "Epoch 37/100\n",
      "110/110 [==============================] - 7s 63ms/step - loss: 2.4731 - accuracy: 0.8630 - val_loss: 2.7531 - val_accuracy: 0.7898\n",
      "Epoch 38/100\n",
      "110/110 [==============================] - 7s 63ms/step - loss: 2.3902 - accuracy: 0.8741 - val_loss: 2.6961 - val_accuracy: 0.7841\n",
      "Epoch 39/100\n",
      "110/110 [==============================] - 7s 63ms/step - loss: 2.2864 - accuracy: 0.8835 - val_loss: 2.5533 - val_accuracy: 0.8125\n",
      "Epoch 40/100\n",
      "110/110 [==============================] - 7s 63ms/step - loss: 2.2119 - accuracy: 0.8855 - val_loss: 2.4711 - val_accuracy: 0.7841\n",
      "Epoch 41/100\n",
      "110/110 [==============================] - 7s 63ms/step - loss: 2.1378 - accuracy: 0.8940 - val_loss: 2.4328 - val_accuracy: 0.8011\n",
      "Epoch 42/100\n",
      "110/110 [==============================] - 7s 63ms/step - loss: 2.0725 - accuracy: 0.8832 - val_loss: 2.3879 - val_accuracy: 0.8068\n",
      "Epoch 43/100\n",
      "110/110 [==============================] - 7s 63ms/step - loss: 1.9928 - accuracy: 0.8980 - val_loss: 2.2572 - val_accuracy: 0.8352\n",
      "Epoch 44/100\n",
      "110/110 [==============================] - 7s 65ms/step - loss: 1.9049 - accuracy: 0.9097 - val_loss: 2.1531 - val_accuracy: 0.8523\n",
      "Epoch 45/100\n",
      "110/110 [==============================] - 7s 63ms/step - loss: 1.8322 - accuracy: 0.9160 - val_loss: 2.1736 - val_accuracy: 0.8239\n",
      "Epoch 46/100\n",
      "110/110 [==============================] - 7s 63ms/step - loss: 1.7870 - accuracy: 0.9108 - val_loss: 2.1067 - val_accuracy: 0.8295\n",
      "Epoch 47/100\n",
      "110/110 [==============================] - 7s 63ms/step - loss: 1.7091 - accuracy: 0.9197 - val_loss: 2.0177 - val_accuracy: 0.8239\n",
      "Epoch 48/100\n",
      "110/110 [==============================] - 7s 63ms/step - loss: 1.6299 - accuracy: 0.9311 - val_loss: 1.9521 - val_accuracy: 0.8409\n",
      "Epoch 49/100\n",
      "110/110 [==============================] - 7s 63ms/step - loss: 1.5814 - accuracy: 0.9330 - val_loss: 1.9041 - val_accuracy: 0.8466\n",
      "Epoch 50/100\n",
      "110/110 [==============================] - 7s 63ms/step - loss: 1.5351 - accuracy: 0.9345 - val_loss: 1.8289 - val_accuracy: 0.8693\n",
      "Epoch 51/100\n",
      "110/110 [==============================] - 7s 63ms/step - loss: 1.4754 - accuracy: 0.9353 - val_loss: 1.7699 - val_accuracy: 0.8636\n",
      "Epoch 52/100\n",
      "110/110 [==============================] - 7s 63ms/step - loss: 1.4349 - accuracy: 0.9356 - val_loss: 1.7444 - val_accuracy: 0.8636\n",
      "Epoch 53/100\n",
      "110/110 [==============================] - 7s 63ms/step - loss: 1.3767 - accuracy: 0.9399 - val_loss: 1.7303 - val_accuracy: 0.8523\n",
      "Epoch 54/100\n",
      "110/110 [==============================] - 7s 64ms/step - loss: 1.3263 - accuracy: 0.9476 - val_loss: 1.6272 - val_accuracy: 0.8864\n",
      "Epoch 55/100\n",
      "110/110 [==============================] - 7s 64ms/step - loss: 1.2779 - accuracy: 0.9447 - val_loss: 1.5594 - val_accuracy: 0.8977\n",
      "Epoch 56/100\n",
      "110/110 [==============================] - 7s 63ms/step - loss: 1.2334 - accuracy: 0.9519 - val_loss: 1.5067 - val_accuracy: 0.8807\n",
      "Epoch 57/100\n",
      "110/110 [==============================] - 7s 63ms/step - loss: 1.1825 - accuracy: 0.9544 - val_loss: 1.5275 - val_accuracy: 0.8693\n",
      "Epoch 58/100\n",
      "110/110 [==============================] - 7s 63ms/step - loss: 1.1533 - accuracy: 0.9538 - val_loss: 1.4729 - val_accuracy: 0.8750\n",
      "Epoch 59/100\n",
      "110/110 [==============================] - 7s 63ms/step - loss: 1.1030 - accuracy: 0.9561 - val_loss: 1.4224 - val_accuracy: 0.8750\n",
      "Epoch 60/100\n",
      "110/110 [==============================] - 7s 63ms/step - loss: 1.0695 - accuracy: 0.9627 - val_loss: 1.4227 - val_accuracy: 0.8807\n",
      "Epoch 61/100\n",
      "110/110 [==============================] - 7s 63ms/step - loss: 1.0210 - accuracy: 0.9689 - val_loss: 1.3689 - val_accuracy: 0.8920\n",
      "Epoch 62/100\n",
      "110/110 [==============================] - 7s 63ms/step - loss: 0.9938 - accuracy: 0.9652 - val_loss: 1.3302 - val_accuracy: 0.8977\n",
      "Epoch 63/100\n",
      "110/110 [==============================] - 7s 64ms/step - loss: 0.9593 - accuracy: 0.9684 - val_loss: 1.2870 - val_accuracy: 0.8864\n",
      "Epoch 64/100\n",
      "110/110 [==============================] - 7s 63ms/step - loss: 0.9301 - accuracy: 0.9687 - val_loss: 1.2758 - val_accuracy: 0.8864\n",
      "Epoch 65/100\n",
      "110/110 [==============================] - 7s 63ms/step - loss: 0.9126 - accuracy: 0.9655 - val_loss: 1.2634 - val_accuracy: 0.8864\n",
      "Epoch 66/100\n",
      "110/110 [==============================] - 7s 63ms/step - loss: 0.8706 - accuracy: 0.9735 - val_loss: 1.2260 - val_accuracy: 0.8977\n",
      "Epoch 67/100\n",
      "110/110 [==============================] - 7s 63ms/step - loss: 0.8392 - accuracy: 0.9752 - val_loss: 1.2173 - val_accuracy: 0.8864\n",
      "Epoch 68/100\n",
      "110/110 [==============================] - 7s 63ms/step - loss: 0.8160 - accuracy: 0.9729 - val_loss: 1.1533 - val_accuracy: 0.8920\n",
      "Epoch 69/100\n",
      "110/110 [==============================] - 7s 63ms/step - loss: 0.7980 - accuracy: 0.9689 - val_loss: 1.1014 - val_accuracy: 0.9148\n",
      "Epoch 70/100\n",
      "110/110 [==============================] - 7s 63ms/step - loss: 0.7649 - accuracy: 0.9752 - val_loss: 1.0749 - val_accuracy: 0.9091\n",
      "Epoch 71/100\n",
      "110/110 [==============================] - 7s 63ms/step - loss: 0.7544 - accuracy: 0.9729 - val_loss: 1.1315 - val_accuracy: 0.8920\n",
      "Epoch 72/100\n",
      "110/110 [==============================] - 7s 63ms/step - loss: 0.7150 - accuracy: 0.9795 - val_loss: 1.0758 - val_accuracy: 0.8920\n",
      "Epoch 73/100\n",
      "110/110 [==============================] - 7s 64ms/step - loss: 0.7037 - accuracy: 0.9781 - val_loss: 1.0886 - val_accuracy: 0.8920\n",
      "Epoch 74/100\n",
      "110/110 [==============================] - 7s 63ms/step - loss: 0.6883 - accuracy: 0.9792 - val_loss: 1.0752 - val_accuracy: 0.8864\n",
      "Epoch 75/100\n",
      "110/110 [==============================] - 7s 63ms/step - loss: 0.6677 - accuracy: 0.9761 - val_loss: 1.0207 - val_accuracy: 0.8977\n",
      "Epoch 76/100\n",
      "110/110 [==============================] - 7s 64ms/step - loss: 0.6447 - accuracy: 0.9786 - val_loss: 1.0135 - val_accuracy: 0.8920\n",
      "Epoch 77/100\n",
      "110/110 [==============================] - 7s 63ms/step - loss: 0.6092 - accuracy: 0.9860 - val_loss: 0.9999 - val_accuracy: 0.9034\n",
      "Epoch 78/100\n",
      "110/110 [==============================] - 7s 63ms/step - loss: 0.6001 - accuracy: 0.9818 - val_loss: 0.9916 - val_accuracy: 0.8864\n",
      "Epoch 79/100\n",
      "110/110 [==============================] - 7s 63ms/step - loss: 0.5914 - accuracy: 0.9812 - val_loss: 0.9530 - val_accuracy: 0.8920\n",
      "Epoch 80/100\n",
      "110/110 [==============================] - 7s 63ms/step - loss: 0.5655 - accuracy: 0.9866 - val_loss: 0.9556 - val_accuracy: 0.8977\n",
      "Epoch 81/100\n",
      "110/110 [==============================] - 7s 63ms/step - loss: 0.5478 - accuracy: 0.9852 - val_loss: 0.9667 - val_accuracy: 0.8807\n",
      "Epoch 82/100\n",
      "110/110 [==============================] - 7s 63ms/step - loss: 0.5427 - accuracy: 0.9821 - val_loss: 0.9414 - val_accuracy: 0.8864\n",
      "Epoch 83/100\n",
      "110/110 [==============================] - 7s 63ms/step - loss: 0.5267 - accuracy: 0.9832 - val_loss: 0.9292 - val_accuracy: 0.8807\n",
      "Epoch 84/100\n",
      "110/110 [==============================] - 7s 63ms/step - loss: 0.5136 - accuracy: 0.9846 - val_loss: 0.9173 - val_accuracy: 0.8807\n",
      "Epoch 85/100\n",
      "110/110 [==============================] - 7s 63ms/step - loss: 0.5049 - accuracy: 0.9826 - val_loss: 0.9206 - val_accuracy: 0.8693\n",
      "Epoch 86/100\n",
      "110/110 [==============================] - 7s 63ms/step - loss: 0.4837 - accuracy: 0.9877 - val_loss: 0.8756 - val_accuracy: 0.8920\n",
      "Epoch 87/100\n",
      "110/110 [==============================] - 7s 63ms/step - loss: 0.4699 - accuracy: 0.9877 - val_loss: 0.8693 - val_accuracy: 0.8864\n",
      "Epoch 88/100\n",
      "110/110 [==============================] - 7s 63ms/step - loss: 0.4514 - accuracy: 0.9892 - val_loss: 0.8099 - val_accuracy: 0.8920\n",
      "Epoch 89/100\n",
      "110/110 [==============================] - 7s 63ms/step - loss: 0.4459 - accuracy: 0.9872 - val_loss: 0.7921 - val_accuracy: 0.9034\n",
      "Epoch 90/100\n",
      "110/110 [==============================] - 7s 63ms/step - loss: 0.4344 - accuracy: 0.9892 - val_loss: 0.7845 - val_accuracy: 0.9034\n",
      "Epoch 91/100\n",
      "110/110 [==============================] - 7s 63ms/step - loss: 0.4288 - accuracy: 0.9863 - val_loss: 0.8027 - val_accuracy: 0.9091\n",
      "Epoch 92/100\n",
      "110/110 [==============================] - 7s 63ms/step - loss: 0.4297 - accuracy: 0.9826 - val_loss: 0.8570 - val_accuracy: 0.8807\n",
      "Epoch 93/100\n",
      "110/110 [==============================] - 7s 63ms/step - loss: 0.4178 - accuracy: 0.9858 - val_loss: 0.7620 - val_accuracy: 0.8977\n",
      "Epoch 94/100\n",
      "110/110 [==============================] - 7s 63ms/step - loss: 0.4130 - accuracy: 0.9818 - val_loss: 0.7479 - val_accuracy: 0.9034\n",
      "Epoch 95/100\n",
      "110/110 [==============================] - 7s 63ms/step - loss: 0.4005 - accuracy: 0.9869 - val_loss: 0.7080 - val_accuracy: 0.9091\n",
      "Epoch 96/100\n",
      "110/110 [==============================] - 7s 63ms/step - loss: 0.3886 - accuracy: 0.9869 - val_loss: 0.7477 - val_accuracy: 0.9091\n",
      "Epoch 97/100\n",
      "110/110 [==============================] - 7s 63ms/step - loss: 0.3753 - accuracy: 0.9917 - val_loss: 0.7846 - val_accuracy: 0.8864\n",
      "Epoch 98/100\n",
      "110/110 [==============================] - 7s 63ms/step - loss: 0.3701 - accuracy: 0.9875 - val_loss: 0.6979 - val_accuracy: 0.9261\n",
      "Epoch 99/100\n",
      "110/110 [==============================] - 7s 63ms/step - loss: 0.3674 - accuracy: 0.9852 - val_loss: 0.7525 - val_accuracy: 0.8977\n",
      "Epoch 100/100\n",
      "110/110 [==============================] - 7s 64ms/step - loss: 0.3685 - accuracy: 0.9846 - val_loss: 0.7723 - val_accuracy: 0.8807\n"
     ]
    }
   ],
   "source": [
    "history = model.fit(train_images, train_labels, epochs = 100, validation_data=(test_images, test_labels))"
   ]
  },
  {
   "cell_type": "code",
   "execution_count": 19,
   "metadata": {},
   "outputs": [
    {
     "name": "stdout",
     "output_type": "stream",
     "text": [
      "WARNING:tensorflow:From C:\\Users\\songz\\Anaconda3\\envs\\tensorflow\\lib\\site-packages\\tensorflow\\python\\ops\\resource_variable_ops.py:1817: calling BaseResourceVariable.__init__ (from tensorflow.python.ops.resource_variable_ops) with constraint is deprecated and will be removed in a future version.\n",
      "Instructions for updating:\n",
      "If using Keras pass *_constraint arguments to layers.\n",
      "INFO:tensorflow:Assets written to: ./model in 15.small dataset model\\assets\n"
     ]
    }
   ],
   "source": [
    "model.save('./model in 15.small dataset model') "
   ]
  },
  {
   "cell_type": "code",
   "execution_count": 20,
   "metadata": {},
   "outputs": [
    {
     "name": "stdout",
     "output_type": "stream",
     "text": [
      "6/6 - 0s - loss: 0.7723 - accuracy: 0.8807\n"
     ]
    },
    {
     "data": {
      "image/png": "[encoded data removed]",
      "text/plain": [
       "<Figure size 432x288 with 1 Axes>"
      ]
     },
     "metadata": {
      "needs_background": "light"
     },
     "output_type": "display_data"
    }
   ],
   "source": [
    "plt.title('Accuracy')\n",
    "plt.plot(history.history['accuracy'], label='training accuracy')\n",
    "plt.plot(history.history['val_accuracy'], label = 'test accuracy')\n",
    "plt.xlabel('Epoch')\n",
    "plt.ylabel('Accuracy')\n",
    "plt.ylim([0, 1])\n",
    "plt.legend(loc='lower right')\n",
    "\n",
    "test_loss, test_acc = model.evaluate(test_images,  test_labels, verbose=2)"
   ]
  },
  {
   "cell_type": "code",
   "execution_count": 21,
   "metadata": {},
   "outputs": [
    {
     "data": {
      "text/plain": [
       "<matplotlib.legend.Legend at 0x299b9d2afc8>"
      ]
     },
     "execution_count": 21,
     "metadata": {},
     "output_type": "execute_result"
    },
    {
     "data": {
      "image/png": "[encoded data removed]",
      "text/plain": [
       "<Figure size 432x288 with 1 Axes>"
      ]
     },
     "metadata": {
      "needs_background": "light"
     },
     "output_type": "display_data"
    }
   ],
   "source": [
    "plt.title('Loss')\n",
    "plt.plot(history.history['loss'], label='training loss')\n",
    "plt.plot(history.history['val_loss'], label='test loss')\n",
    "plt.xlabel('Epoch')\n",
    "plt.ylabel('Loss')\n",
    "plt.legend(loc='upper right')"
   ]
  },
  {
   "cell_type": "code",
   "execution_count": null,
   "metadata": {},
   "outputs": [],
   "source": [
    "# 存/取模型\n",
    "# model.save('/model in 6.CNN with more databy pad and flip') \n",
    "# loaded_model = tf.keras.models.load_model('/tmp/model') "
   ]
  },
  {
   "cell_type": "code",
   "execution_count": null,
   "metadata": {},
   "outputs": [],
   "source": [
    "import matplotlib.pyplot as plot  # plot 可以視為畫布\n",
    "import math\n",
    "\n",
    "def show_feature_label_prediction(features, labels, predictions, indexList):\n",
    "    num = len(indexList)\n",
    "\n",
    "    plot.gcf().set_size_inches( 2*5, (2+0.4)*math.ceil(num/5) )\n",
    "\n",
    "    loc = 0\n",
    "    for i in indexList :\n",
    "        loc += 1\n",
    "        subp = plot.subplot( math.ceil(num/5), 5, loc )\n",
    "        subp.imshow( features[i], cmap='binary' )\n",
    "\n",
    "        if( len(predictions) > 0 ) :\n",
    "            title = 'prediction = ' + str(predictions[i])\n",
    "            title += (' (o)' if predictions[i]==labels[i] else ' (x)') # predict result\n",
    "            title += '\\nlabel = ' + str(labels[i])\n",
    "        else :\n",
    "            title = 'label = ' + str(labels[i])\n",
    "\n",
    "        subp.set_title( title, fontsize=12 )\n",
    "        subp.set_xticks( [] )\n",
    "        subp.set_yticks( [] )\n",
    "    plot.show()"
   ]
  },
  {
   "cell_type": "code",
   "execution_count": null,
   "metadata": {},
   "outputs": [],
   "source": [
    "def show_misprediction(features, labels, predictions, indexList):\n",
    "    num = len(indexList)\n",
    "\n",
    "    plot.gcf().set_size_inches( 2*5, (2+0.4)*math.ceil(num/5) )\n",
    "\n",
    "    loc = 0\n",
    "    for i in indexList :\n",
    "\n",
    "        if(len(predictions)> 0) & (predictions[i]!=labels[i]):\n",
    "            loc += 1\n",
    "            subp = plot.subplot( math.ceil(num/5), 5, loc )\n",
    "            subp.imshow(features[i], cmap='binary' )\n",
    "            title = str(labels[i])\n",
    "            title += (' (o)' if predictions[i]==labels[i] else ' (x)') # predict result\n",
    "            subp.set_title( title, fontsize=12 )\n",
    "        else :\n",
    "            continue\n",
    "#             title = 'label = ' + str(labels[i])\n",
    "\n",
    "        \n",
    "        subp.set_xticks( [] )\n",
    "        subp.set_yticks( [] )\n",
    "    plot.show()"
   ]
  },
  {
   "cell_type": "code",
   "execution_count": null,
   "metadata": {},
   "outputs": [],
   "source": [
    "re = []\n",
    "prediction = model.predict_classes(test_images)\n",
    "for i in range(len(test_labels_org)):\n",
    "    if prediction[i]!=test_labels_org[i]:\n",
    "        re.append(test_labels_org[i])\n",
    "# sorted(re)"
   ]
  },
  {
   "cell_type": "code",
   "execution_count": null,
   "metadata": {},
   "outputs": [],
   "source": [
    "sorted(test_labels_org)"
   ]
  },
  {
   "cell_type": "code",
   "execution_count": null,
   "metadata": {},
   "outputs": [],
   "source": [
    "prediction = model.predict_classes(test_images)\n",
    "show_feature_label_prediction(test_images, test_labels_org, prediction, range(0, len(test_labels_org)))"
   ]
  },
  {
   "cell_type": "code",
   "execution_count": null,
   "metadata": {},
   "outputs": [],
   "source": [
    "np.unique(y)"
   ]
  },
  {
   "cell_type": "code",
   "execution_count": null,
   "metadata": {},
   "outputs": [],
   "source": [
    "len(np.unique(y))"
   ]
  },
  {
   "cell_type": "code",
   "execution_count": null,
   "metadata": {},
   "outputs": [],
   "source": [
    "prediction = model.predict_classes(test_images)\n",
    "show_misprediction(test_images, test_labels_org, prediction, range(0, len(test_labels_org)))"
   ]
  },
  {
   "cell_type": "code",
   "execution_count": null,
   "metadata": {},
   "outputs": [],
   "source": [
    "df = pd.DataFrame(data={'name': np.unique(list(name_list))})\n",
    "df"
   ]
  },
  {
   "cell_type": "code",
   "execution_count": null,
   "metadata": {},
   "outputs": [],
   "source": [
    "print(df.iloc[3][0])"
   ]
  },
  {
   "cell_type": "code",
   "execution_count": null,
   "metadata": {},
   "outputs": [],
   "source": [
    "# print(df.iloc[0][0])\n",
    "# print(df.iloc[94][0])\n",
    "# print(df.iloc[17][0])\n",
    "# print(df.iloc[10][0])\n",
    "# print(df.iloc[26][0])\n",
    "# print(df.iloc[53][0])\n",
    "# print(df.iloc[43][0])\n",
    "# print(df.iloc[60][0])\n",
    "# print(df.iloc[48][0])\n",
    "# print(df.iloc[25][0])\n",
    "# print(df.iloc[92][0])\n",
    "# print(df.iloc[85][0])\n",
    "# print(df.iloc[23][0])\n",
    "# print(df.iloc[19][0])\n",
    "# print(df.iloc[38][0])\n",
    "# print(df.iloc[75][0])\n",
    "# print(df.iloc[22][0])\n",
    "# print(df.iloc[63][0])\n",
    "# print(df.iloc[81][0])\n",
    "# print(df.iloc[62][0])\n",
    "# print(df.iloc[14][0])\n",
    "# print(df.iloc[33][0])\n",
    "# print(df.iloc[15][0])\n",
    "# print(df.iloc[86][0])\n",
    "# print(df.iloc[3][0])"
   ]
  },
  {
   "cell_type": "code",
   "execution_count": null,
   "metadata": {},
   "outputs": [],
   "source": []
  },
  {
   "cell_type": "markdown",
   "metadata": {},
   "source": [
    "###### "
   ]
  }
 ],
 "metadata": {
  "kernelspec": {
   "display_name": "Python 3",
   "language": "python",
   "name": "python3"
  },
  "language_info": {
   "codemirror_mode": {
    "name": "ipython",
    "version": 3
   },
   "file_extension": ".py",
   "mimetype": "text/x-python",
   "name": "python",
   "nbconvert_exporter": "python",
   "pygments_lexer": "ipython3",
   "version": "3.7.7"
  },
  "toc": {
   "base_numbering": 1,
   "nav_menu": {},
   "number_sections": true,
   "sideBar": true,
   "skip_h1_title": false,
   "title_cell": "Table of Contents",
   "title_sidebar": "Contents",
   "toc_cell": false,
   "toc_position": {},
   "toc_section_display": true,
   "toc_window_display": false
  }
 },
 "nbformat": 4,
 "nbformat_minor": 4
}
