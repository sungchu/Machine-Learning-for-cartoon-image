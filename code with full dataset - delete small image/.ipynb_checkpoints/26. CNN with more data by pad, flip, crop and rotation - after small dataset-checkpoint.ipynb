{
 "cells": [
  {
   "cell_type": "code",
   "execution_count": 1,
   "metadata": {},
   "outputs": [],
   "source": [
    "from __future__ import absolute_import, division, print_function, unicode_literals\n",
    "import requests\n",
    "import pandas as pd\n",
    "from bs4 import BeautifulSoup\n",
    "from urllib.request import build_opener\n",
    "from urllib.request import install_opener\n",
    "import os\n",
    "import pathlib\n",
    "from os import listdir\n",
    "from os.path import isfile, join\n",
    "\n",
    "from PIL import Image\n",
    "import numpy as np\n",
    "import matplotlib.pyplot as plt\n",
    "\n",
    "import tensorflow as tf\n",
    "from tensorflow.keras import datasets, layers, models, optimizers\n",
    "from tensorflow.keras.preprocessing.image import ImageDataGenerator\n",
    "from sklearn.model_selection import train_test_split"
   ]
  },
  {
   "cell_type": "code",
   "execution_count": 2,
   "metadata": {},
   "outputs": [],
   "source": [
    "# physical_devices = tf.config.experimental.list_physical_devices('GPU') \n",
    "# for physical_device in physical_devices: \n",
    "#     tf.config.experimental.set_memory_growth(physical_device, True)"
   ]
  },
  {
   "cell_type": "code",
   "execution_count": 3,
   "metadata": {},
   "outputs": [
    {
     "name": "stdout",
     "output_type": "stream",
     "text": [
      "2.2.0\n"
     ]
    }
   ],
   "source": [
    "print(tf.__version__)"
   ]
  },
  {
   "cell_type": "code",
   "execution_count": 4,
   "metadata": {},
   "outputs": [],
   "source": [
    "# from tensorflow.python.client import device_lib\n",
    "# print(device_lib.list_local_devices())"
   ]
  },
  {
   "cell_type": "markdown",
   "metadata": {},
   "source": [
    "# count how many images in each category"
   ]
  },
  {
   "cell_type": "code",
   "execution_count": 5,
   "metadata": {},
   "outputs": [],
   "source": [
    "folder_name_list = ['001_Bulbasaur', '002_Ivysaur', '003_Venusaur', '004_Charmander', '005_Charmeleon',\n",
    " '006_Charizard', '007_Squirtle', '008_Wartortle', '009_Blastoise', '010_Caterpie', '011_Metapod',\n",
    " '012_Butterfree', '013_Weedle', '014_Kakuna', '015_Beedrill', '016_Pidgey', '017_Pidgeotto', '018_Pidgeot',\n",
    " '019_Rattata', '020_Raticate', '021_Spearow', '022_Fearow', '023_Ekans', '024_Arbok', '025_Pikachu', '026_Raichu',\n",
    " '027_Sandshrew', '028_Sandslash', '029_Nidoran♀', '030_Nidorina', '031_Nidoqueen', '032_Nidoran♂', '033_Nidorino',\n",
    " '034_Nidoking', '035_Clefairy', '036_Clefable', '037_Vulpix', '038_Ninetales', '039_Jigglypuff', '040_Wigglytuff',\n",
    " '041_Zubat', '042_Golbat', '043_Oddish', '044_Gloom', '045_Vileplume', '046_Paras', '047_Parasect', '048_Venonat',\n",
    " '049_Venomoth', '050_Diglett', '051_Dugtrio', '052_Meowth', '053_Persian', '054_Psyduck', '055_Golduck', '056_Mankey',\n",
    " '057_Primeape', '058_Growlithe', '059_Arcanine', '060_Poliwag', '061_Poliwhirl', '062_Poliwrath', '063_Abra',\n",
    " '064_Kadabra', '065_Alakazam', '066_Machop', '067_Machoke', '068_Machamp', '069_Bellsprout', '070_Weepinbell',\n",
    " '071_Victreebel', '072_Tentacool', '073_Tentacruel', '074_Geodude', '075_Graveler', '076_Golem', '077_Ponyta',\n",
    " '078_Rapidash', '079_Slowpoke', '080_Slowbro', '081_Magnemite', '082_Magneton', \"083_Farfetch'd\", '084_Doduo',\n",
    " '085_Dodrio', '086_Seel', '087_Dewgong', '088_Grimer', '089_Muk', '090_Shellder', '091_Cloyster', '092_Gastly',\n",
    " '093_Haunter', '094_Gengar', '095_Onix', '096_Drowzee', '097_Hypno', '098_Krabby', '099_Kingler', '100_Voltorb',\n",
    " '101_Electrode', '102_Exeggcute', '103_Exeggutor', '104_Cubone', '105_Marowak', '106_Hitmonlee', '107_Hitmonchan',\n",
    " '108_Lickitung', '109_Koffing', '110_Weezing', '111_Rhyhorn', '112_Rhydon', '113_Chansey', '114_Tangela',\n",
    " '115_Kangaskhan', '116_Horsea', '117_Seadra', '118_Goldeen', '119_Seaking', '120_Staryu', '121_Starmie',\n",
    " '122_Mr. Mime', '123_Scyther', '124_Jynx', '125_Electabuzz', '126_Magmar', '127_Pinsir', '128_Tauros',\n",
    " '129_Magikarp', '130_Gyarados', '131_Lapras', '132_Ditto', '133_Eevee', '134_Vaporeon', '135_Jolteon',\n",
    " '136_Flareon', '137_Porygon', '138_Omanyte', '139_Omastar', '140_Kabuto', '141_Kabutops', '142_Aerodactyl',\n",
    " '143_Snorlax', '144_Articuno', '145_Zapdos', '146_Moltres', '147_Dratini', '148_Dragonair', '149_Dragonite',\n",
    " '150_Mewtwo', '151_Mew', '152_Chikorita', '153_Bayleef', '154_Meganium', '155_Cyndaquil', '156_Quilava', '157_Typhlosion',\n",
    " '158_Totodile', '159_Croconaw', '160_Feraligatr', '161_Sentret', '162_Furret', '163_Hoothoot', '164_Noctowl',\n",
    " '165_Ledyba', '166_Ledian', '167_Spinarak', '168_Ariados', '169_Crobat', '170_Chinchou', '171_Lanturn', '172_Pichu',\n",
    " '173_Cleffa', '174_Igglybuff', '175_Togepi', '176_Togetic', '177_Natu', '178_Xatu', '179_Mareep', '180_Flaaffy',\n",
    " '181_Ampharos', '182_Bellossom', '183_Marill', '184_Azumarill', '185_Sudowoodo', '186_Politoed', '187_Hoppip',\n",
    " '188_Skiploom', '189_Jumpluff', '190_Aipom', '191_Sunkern', '192_Sunflora', '193_Yanma', '194_Wooper', '195_Quagsire',\n",
    " '196_Espeon', '197_Umbreon', '198_Murkrow', '199_Slowking', '200_Misdreavus', '201_Unown', '202_Wobbuffet', '203_Girafarig',\n",
    " '204_Pineco', '205_Forretress', '206_Dunsparce', '207_Gligar', '208_Steelix', '209_Snubbull', '210_Granbull',\n",
    " '211_Qwilfish', '212_Scizor', '213_Shuckle', '214_Heracross', '215_Sneasel', '216_Teddiursa', '217_Ursaring',\n",
    " '218_Slugma', '219_Magcargo', '220_Swinub', '221_Piloswine', '222_Corsola', '223_Remoraid', '224_Octillery',\n",
    " '225_Delibird', '226_Mantine', '227_Skarmory', '228_Houndour', '229_Houndoom', '230_Kingdra', '231_Phanpy',\n",
    " '232_Donphan', '233_Porygon2', '234_Stantler', '235_Smeargle', '236_Tyrogue', '237_Hitmontop', '238_Smoochum',\n",
    " '239_Elekid', '240_Magby', '241_Miltank', '242_Blissey', '243_Raikou', '244_Entei', '245_Suicune', '246_Larvitar',\n",
    " '247_Pupitar', '248_Tyranitar', '249_Lugia', '250_Ho-Oh', '251_Celebi', '252_Treecko', '253_Grovyle', '254_Sceptile',\n",
    " '255_Torchic', '256_Combusken', '257_Blaziken', '258_Mudkip', '259_Marshtomp', '260_Swampert', '261_Poochyena',\n",
    " '262_Mightyena', '263_Zigzagoon', '264_Linoone', '265_Wurmple', '266_Silcoon', '267_Beautifly', '268_Cascoon',\n",
    " '269_Dustox', '270_Lotad', '271_Lombre', '272_Ludicolo', '273_Seedot', '274_Nuzleaf', '275_Shiftry', '276_Taillow',\n",
    " '277_Swellow', '278_Wingull', '279_Pelipper', '280_Ralts', '281_Kirlia', '282_Gardevoir', '283_Surskit', '284_Masquerain',\n",
    " '285_Shroomish', '286_Breloom', '287_Slakoth', '288_Vigoroth', '289_Slaking', '290_Nincada', '291_Ninjask',\n",
    " '292_Shedinja', '293_Whismur', '294_Loudred', '295_Exploud', '296_Makuhita', '297_Hariyama', '298_Azurill',\n",
    " '299_Nosepass', '300_Skitty', '301_Delcatty', '302_Sableye', '303_Mawile', '304_Aron', '305_Lairon', '306_Aggron',\n",
    " '307_Meditite', '308_Medicham', '309_Electrike', '310_Manectric', '311_Plusle', '312_Minun', '313_Volbeat',\n",
    " '314_Illumise', '315_Roselia', '316_Gulpin', '317_Swalot', '318_Carvanha', '319_Sharpedo', '320_Wailmer',\n",
    " '321_Wailord', '322_Numel', '323_Camerupt', '324_Torkoal', '325_Spoink', '326_Grumpig', '327_Spinda',\n",
    " '328_Trapinch', '329_Vibrava', '330_Flygon', '331_Cacnea', '332_Cacturne', '333_Swablu', '334_Altaria', '335_Zangoose',\n",
    " '336_Seviper', '337_Lunatone', '338_Solrock', '339_Barboach', '340_Whiscash', '341_Corphish', '342_Crawdaunt',\n",
    " '343_Baltoy', '344_Claydol', '345_Lileep', '346_Cradily', '347_Anorith', '348_Armaldo', '349_Feebas', '350_Milotic',\n",
    " '351_Castform', '352_Kecleon', '353_Shuppet', '354_Banette', '355_Duskull', '356_Dusclops', '357_Tropius', '358_Chimecho',\n",
    " '359_Absol', '360_Wynaut', '361_Snorunt', '362_Glalie', '363_Spheal', '364_Sealeo', '365_Walrein', '366_Clamperl',\n",
    " '367_Huntail', '368_Gorebyss', '369_Relicanth', '370_Luvdisc', '371_Bagon', '372_Shelgon', '373_Salamence', '374_Beldum',\n",
    " '375_Metang', '376_Metagross', '377_Regirock', '378_Regice', '379_Registeel', '380_Latias', '381_Latios', '382_Kyogre',\n",
    " '383_Groudon', '384_Rayquaza', '385_Jirachi', '386_Deoxys', '387_Turtwig', '388_Grotle', '389_Torterra', '390_Chimchar',\n",
    " '391_Monferno', '392_Infernape', '393_Piplup', '394_Prinplup', '395_Empoleon', '396_Starly', '397_Staravia', '398_Staraptor',\n",
    " '399_Bidoof', '400_Bibarel', '401_Kricketot', '402_Kricketune', '403_Shinx', '404_Luxio', '405_Luxray',\n",
    " '406_Budew', '407_Roserade', '408_Cranidos', '409_Rampardos', '410_Shieldon', '411_Bastiodon', '412_Burmy', '413_Wormadam',\n",
    " '414_Mothim', '415_Combee', '416_Vespiquen', '417_Pachirisu', '418_Buizel', '419_Floatzel', '420_Cherubi', '421_Cherrim',\n",
    " '422_Shellos', '423_Gastrodon', '424_Ambipom', '425_Drifloon', '426_Drifblim', '427_Buneary', '428_Lopunny',\n",
    " '429_Mismagius', '430_Honchkrow', '431_Glameow', '432_Purugly', '433_Chingling', '434_Stunky', '435_Skuntank',\n",
    " '436_Bronzor', '437_Bronzong', '438_Bonsly', '439_Mime Jr.', '440_Happiny', '441_Chatot', '442_Spiritomb', '443_Gible',\n",
    " '444_Gabite', '445_Garchomp', '446_Munchlax', '447_Riolu', '448_Lucario', '449_Hippopotas', '450_Hippowdon', '451_Skorupi',\n",
    " '452_Drapion', '453_Croagunk', '454_Toxicroak', '455_Carnivine', '456_Finneon', '457_Lumineon', '458_Mantyke',\n",
    " '459_Snover', '460_Abomasnow', '461_Weavile', '462_Magnezone', '463_Lickilicky', '464_Rhyperior', '465_Tangrowth',\n",
    " '466_Electivire', '467_Magmortar', '468_Togekiss', '469_Yanmega', '470_Leafeon', '471_Glaceon', '472_Gliscor', '473_Mamoswine',\n",
    " '474_Porygon-Z', '475_Gallade', '476_Probopass', '477_Dusknoir', '478_Froslass', '479_Rotom', '480_Uxie', '481_Mesprit',\n",
    " '482_Azelf', '483_Dialga', '484_Palkia', '485_Heatran', '486_Regigigas', '487_Giratina', '488_Cresselia', '489_Phione',\n",
    " '490_Manaphy', '491_Darkrai', '492_Shaymin', '493_Arceus', '494_Victini', '495_Snivy', '496_Servine', '497_Serperior', '498_Tepig',\n",
    " '499_Pignite', '500_Emboar', '501_Oshawott', '502_Dewott', '503_Samurott', '504_Patrat', '505_Watchog',\n",
    " '506_Lillipup', '507_Herdier', '508_Stoutland', '509_Purrloin', '510_Liepard', '511_Pansage', '512_Simisage',\n",
    " '513_Pansear', '514_Simisear', '515_Panpour', '516_Simipour', '517_Munna', '518_Musharna', '519_Pidove', '520_Tranquill',\n",
    " '521_Unfezant', '522_Blitzle', '523_Zebstrika', '524_Roggenrola', '525_Boldore', '526_Gigalith', '527_Woobat',\n",
    " '528_Swoobat', '529_Drilbur', '530_Excadrill', '531_Audino', '532_Timburr', '533_Gurdurr', '534_Conkeldurr',\n",
    " '535_Tympole', '536_Palpitoad', '537_Seismitoad', '538_Throh', '539_Sawk', '540_Sewaddle', '541_Swadloon', '542_Leavanny',\n",
    " '543_Venipede', '544_Whirlipede', '545_Scolipede', '546_Cottonee', '547_Whimsicott', '548_Petilil', '549_Lilligant', \n",
    " '550_Basculin', '551_Sandile', '552_Krokorok', '553_Krookodile', '554_Darumaka', '555_Darmanitan', '556_Maractus',\n",
    " '557_Dwebble', '558_Crustle', '559_Scraggy', '560_Scrafty', '561_Sigilyph', '562_Yamask', '563_Cofagrigus',\n",
    " '564_Tirtouga', '565_Carracosta', '566_Archen', '567_Archeops', '568_Trubbish', '569_Garbodor', '570_Zorua', '571_Zoroark',\n",
    " '572_Minccino', '573_Cinccino', '574_Gothita', '575_Gothorita', '576_Gothitelle', '577_Solosis',\n",
    " '578_Duosion', '579_Reuniclus', '580_Ducklett', '581_Swanna', '582_Vanillite', '583_Vanillish', '584_Vanilluxe',\n",
    " '585_Deerling', '586_Sawsbuck', '587_Emolga', '588_Karrablast', '589_Escavalier', '590_Foongus', '591_Amoonguss',\n",
    " '592_Frillish', '593_Jellicent', '594_Alomomola', '595_Joltik', '596_Galvantula', '597_Ferroseed', '598_Ferrothorn',\n",
    " '599_Klink', '600_Klang', '601_Klinklang', '602_Tynamo', '603_Eelektrik', '604_Eelektross', '605_Elgyem',\n",
    " '606_Beheeyem', '607_Litwick', '608_Lampent', '609_Chandelure', '610_Axew', '611_Fraxure', '612_Haxorus', '613_Cubchoo',\n",
    " '614_Beartic', '615_Cryogonal', '616_Shelmet', '617_Accelgor', '618_Stunfisk', '619_Mienfoo', '620_Mienshao',\n",
    " '621_Druddigon', '622_Golett', '623_Golurk', '624_Pawniard', '625_Bisharp', '626_Bouffalant', '627_Rufflet',\n",
    " '628_Braviary', '629_Vullaby', '630_Mandibuzz', '631_Heatmor', '632_Durant', '633_Deino', '634_Zweilous',\n",
    " '635_Hydreigon', '636_Larvesta', '637_Volcarona', '638_Cobalion', '639_Terrakion', '640_Virizion', '641_Tornadus',\n",
    " '642_Thundurus', '643_Reshiram', '644_Zekrom', '645_Landorus', '646_Kyurem', '647_Keldeo', '648_Meloetta', '649_Genesect',\n",
    " '650_Chespin', '651_Quilladin', '652_Chesnaught', '653_Fennekin', '654_Braixen', '655_Delphox', '656_Froakie',\n",
    " '657_Frogadier', '658_Greninja', '659_Bunnelby', '660_Diggersby', '661_Fletchling', '662_Fletchinder',\n",
    " '663_Talonflame', '664_Scatterbug', '665_Spewpa', '666_Vivillon', '667_Litleo', '668_Pyroar', '669_Flabébé',\n",
    " '670_Floette', '671_Florges', '672_Skiddo', '673_Gogoat', '674_Pancham', '675_Pangoro', '676_Furfrou', '677_Espurr',\n",
    " '678_Meowstic', '679_Honedge', '680_Doublade', '681_Aegislash', '682_Spritzee', '683_Aromatisse', '684_Swirlix',\n",
    " '685_Slurpuff', '686_Inkay', '687_Malamar', '688_Binacle', '689_Barbaracle', '690_Skrelp', '691_Dragalge', '692_Clauncher',\n",
    " '693_Clawitzer', '694_Helioptile', '695_Heliolisk', '696_Tyrunt', '697_Tyrantrum', '698_Amaura', '699_Aurorus', \n",
    " '700_Sylveon', '701_Hawlucha', '702_Dedenne', '703_Carbink', '704_Goomy', '705_Sliggoo', '706_Goodra', '707_Klefki',\n",
    " '708_Phantump', '709_Trevenant', '710_Pumpkaboo', '711_Gourgeist', '712_Bergmite', '713_Avalugg',\n",
    " '714_Noibat', '715_Noivern', '716_Xerneas', '717_Yveltal', '718_Zygarde', '719_Diancie', '720_Hoopa', '721_Volcanion',\n",
    " '722_Rowlet', '723_Dartrix', '724_Decidueye', '725_Litten', '726_Torracat', '727_Incineroar', '728_Popplio',\n",
    " '729_Brionne', '730_Primarina', '731_Pikipek', '732_Trumbeak', '733_Toucannon', '734_Yungoos', '735_Gumshoos',\n",
    " '736_Grubbin', '737_Charjabug', '738_Vikavolt', '739_Crabrawler', '740_Crabominable', '741_Oricorio', '742_Cutiefly',\n",
    " '743_Ribombee', '744_Rockruff', '745_Lycanroc', '746_Wishiwashi', '747_Mareanie', '748_Toxapex', '749_Mudbray',\n",
    " '750_Mudsdale', '751_Dewpider', '752_Araquanid', '753_Fomantis', '754_Lurantis', '755_Morelull', '756_Shiinotic',\n",
    " '757_Salandit', '758_Salazzle', '759_Stufful', '760_Bewear', '761_Bounsweet', '762_Steenee', '763_Tsareena',\n",
    " '764_Comfey', '765_Oranguru', '766_Passimian', '767_Wimpod', '768_Golisopod', '769_Sandygast', '770_Palossand',\n",
    " '771_Pyukumuku', '772_Type_Null', '773_Silvally', '774_Minior', '775_Komala', '776_Turtonator', '777_Togedemaru',\n",
    " '778_Mimikyu', '779_Bruxish', '780_Drampa', '781_Dhelmise', '782_Jangmo-o', '783_Hakamo-o', '784_Kommo-o',\n",
    " '785_Tapu Koko', '786_Tapu Lele', '787_Tapu Bulu', '788_Tapu Fini', '789_Cosmog', '790_Cosmoem', '791_Solgaleo',\n",
    " '792_Lunala', '793_Nihilego', '794_Buzzwole', '795_Pheromosa', '796_Xurkitree', '797_Celesteela', '798_Kartana',\n",
    " '799_Guzzlord', '800_Necrozma', '801_Magearna', '802_Marshadow', '803_Poipole', '804_Naganadel', '805_Stakataka',\n",
    " '806_Blacephalon', '807_Zeraora', '808_Meltan', '809_Melmetal', '810_Grookey', '811_Thwackey', '812_Rillaboom',\n",
    " '813_Scorbunny', '814_Raboot', '815_Cinderace', '816_Sobble', '817_Drizzile', '818_Inteleon', '819_Skwovet',\n",
    " '820_Greedent', '821_Rookidee', '822_Corvisquire', '823_Corviknight', '824_Blipbug', '825_Dottler', '826_Orbeetle',\n",
    " '827_Nickit', '828_Thievul', '829_Gossifleur', '830_Eldegoss', '831_Wooloo', '832_Dubwool', '833_Chewtle', '834_Drednaw',\n",
    " '835_Yamper', '836_Boltund', '837_Rolycoly', '838_Carkol', '839_Coalossal', '840_Applin', '841_Flapple', '842_Appletun',\n",
    " '843_Silicobra', '844_Sandaconda', '845_Cramorant', '846_Arrokuda', '847_Barraskewda', '848_Toxel', '849_Toxtricity',\n",
    " '850_Sizzlipede', '851_Centiskorch', '852_Clobbopus', '853_Grapploct', '854_Sinistea', '855_Polteageist',\n",
    " '856_Hatenna', '857_Hattrem', '858_Hatterene', '859_Impidimp', '860_Morgrem', '861_Grimmsnarl', '862_Obstagoon',\n",
    " '863_Perrserker', '864_Cursola', \"865_Sirfetch'd\", '866_Mr. Rime', '867_Runerigus', '868_Milcery', '869_Alcremie',\n",
    " '870_Falinks', '871_Pincurchin', '872_Snom', '873_Frosmoth', '874_Stonjourner', '875_Eiscue', '876_Indeedee',\n",
    " '877_Morpeko', '878_Cufant', '879_Copperajah', '880_Dracozolt', '881_Arctozolt', '882_Dracovish', '883_Arctovish',\n",
    " '884_Duraludon', '885_Dreepy', '886_Drakloak', '887_Dragapult', '888_Zacian', '889_Zamazenta', '890_Eternatus']"
   ]
  },
  {
   "cell_type": "code",
   "execution_count": 6,
   "metadata": {},
   "outputs": [
    {
     "name": "stdout",
     "output_type": "stream",
     "text": [
      "When we filter the images which bigger than (90, 90, 3)\n",
      "We have 699 pokemon containing more than 3 images\n"
     ]
    }
   ],
   "source": [
    "# if image smaller than x, then we will not use them\n",
    "# this section shows how many images will left in each pokemon\n",
    "filter_standard = (90, 90, 3)\n",
    "\n",
    "# filter_df = pd.DataFrame(columns = ['pokemon name', 'amount'])\n",
    "count_list = []\n",
    "\n",
    "for name in folder_name_list:\n",
    "    path = './Pokemon Dataset (convert to png files)/{}'.format(name)\n",
    "    onlyfiles = [f for f in listdir(path) if isfile(join(path, f))]\n",
    "    count = 0\n",
    "    for i in range(len(onlyfiles)):\n",
    "        image = np.asarray(Image.open('./Pokemon Dataset (convert to png files)/{}/{}'.format(name, onlyfiles[i])))\n",
    "        if image.shape > filter_standard:\n",
    "            count += 1\n",
    "    count_list.append(count)\n",
    "\n",
    "print('When we filter the images which bigger than {}'.format(filter_standard))        \n",
    "print('We have {} pokemon containing more than 3 images'.format(len([i for i in count_list if i >= 5])))"
   ]
  },
  {
   "cell_type": "code",
   "execution_count": 7,
   "metadata": {},
   "outputs": [
    {
     "data": {
      "text/html": [
       "<div>\n",
       "<style scoped>\n",
       "    .dataframe tbody tr th:only-of-type {\n",
       "        vertical-align: middle;\n",
       "    }\n",
       "\n",
       "    .dataframe tbody tr th {\n",
       "        vertical-align: top;\n",
       "    }\n",
       "\n",
       "    .dataframe thead th {\n",
       "        text-align: right;\n",
       "    }\n",
       "</style>\n",
       "<table border=\"1\" class=\"dataframe\">\n",
       "  <thead>\n",
       "    <tr style=\"text-align: right;\">\n",
       "      <th></th>\n",
       "      <th>pokemon name</th>\n",
       "      <th>amount</th>\n",
       "    </tr>\n",
       "  </thead>\n",
       "  <tbody>\n",
       "    <tr>\n",
       "      <th>0</th>\n",
       "      <td>001_Bulbasaur</td>\n",
       "      <td>22</td>\n",
       "    </tr>\n",
       "    <tr>\n",
       "      <th>1</th>\n",
       "      <td>002_Ivysaur</td>\n",
       "      <td>13</td>\n",
       "    </tr>\n",
       "    <tr>\n",
       "      <th>2</th>\n",
       "      <td>003_Venusaur</td>\n",
       "      <td>18</td>\n",
       "    </tr>\n",
       "    <tr>\n",
       "      <th>3</th>\n",
       "      <td>004_Charmander</td>\n",
       "      <td>22</td>\n",
       "    </tr>\n",
       "    <tr>\n",
       "      <th>4</th>\n",
       "      <td>005_Charmeleon</td>\n",
       "      <td>12</td>\n",
       "    </tr>\n",
       "    <tr>\n",
       "      <th>...</th>\n",
       "      <td>...</td>\n",
       "      <td>...</td>\n",
       "    </tr>\n",
       "    <tr>\n",
       "      <th>885</th>\n",
       "      <td>886_Drakloak</td>\n",
       "      <td>1</td>\n",
       "    </tr>\n",
       "    <tr>\n",
       "      <th>886</th>\n",
       "      <td>887_Dragapult</td>\n",
       "      <td>3</td>\n",
       "    </tr>\n",
       "    <tr>\n",
       "      <th>887</th>\n",
       "      <td>888_Zacian</td>\n",
       "      <td>8</td>\n",
       "    </tr>\n",
       "    <tr>\n",
       "      <th>888</th>\n",
       "      <td>889_Zamazenta</td>\n",
       "      <td>6</td>\n",
       "    </tr>\n",
       "    <tr>\n",
       "      <th>889</th>\n",
       "      <td>890_Eternatus</td>\n",
       "      <td>5</td>\n",
       "    </tr>\n",
       "  </tbody>\n",
       "</table>\n",
       "<p>890 rows × 2 columns</p>\n",
       "</div>"
      ],
      "text/plain": [
       "       pokemon name  amount\n",
       "0     001_Bulbasaur      22\n",
       "1       002_Ivysaur      13\n",
       "2      003_Venusaur      18\n",
       "3    004_Charmander      22\n",
       "4    005_Charmeleon      12\n",
       "..              ...     ...\n",
       "885    886_Drakloak       1\n",
       "886   887_Dragapult       3\n",
       "887      888_Zacian       8\n",
       "888   889_Zamazenta       6\n",
       "889   890_Eternatus       5\n",
       "\n",
       "[890 rows x 2 columns]"
      ]
     },
     "execution_count": 7,
     "metadata": {},
     "output_type": "execute_result"
    }
   ],
   "source": [
    "filter_df = pd.DataFrame({'pokemon name': folder_name_list, 'amount': count_list})\n",
    "filter_df"
   ]
  },
  {
   "cell_type": "markdown",
   "metadata": {},
   "source": [
    "# Dataset"
   ]
  },
  {
   "cell_type": "markdown",
   "metadata": {},
   "source": [
    "## Get the dataset we need for building CNN below"
   ]
  },
  {
   "cell_type": "code",
   "execution_count": 8,
   "metadata": {},
   "outputs": [],
   "source": [
    "x = []\n",
    "y = []\n",
    "for name in folder_name_list:\n",
    "    path = './Pokemon Dataset (convert to png files)/{}'.format(name)\n",
    "    onlyfiles = [f for f in listdir(path) if isfile(join(path, f))]\n",
    "    for i in range(len(onlyfiles)):\n",
    "        image = np.asarray(Image.open('./Pokemon Dataset (convert to png files)/{}/{}'.format(name, onlyfiles[i])))\n",
    "        # if image size is bigger than the standard and the image amount of that pokemon is more than or equal to 3\n",
    "        if (image.shape > filter_standard) & (folder_name_list.index(name) not in filter_df[filter_df['amount'] < 5].index):\n",
    "            temp = Image.open('./Pokemon Dataset (convert to png files)/{}/{}'.format(name, onlyfiles[i])).resize((90,90), Image.ANTIALIAS)\n",
    "            x.append(np.asarray(temp))\n",
    "            temp2 = [folder_name_list.index(name)]\n",
    "            y.append(temp2)\n",
    "x = np.asarray(x)\n",
    "y = np.asarray(y)"
   ]
  },
  {
   "cell_type": "code",
   "execution_count": 9,
   "metadata": {},
   "outputs": [
    {
     "data": {
      "text/plain": [
       "array([  0,   0,   0, ..., 698, 698, 698])"
      ]
     },
     "execution_count": 9,
     "metadata": {},
     "output_type": "execute_result"
    }
   ],
   "source": [
    "class_encode = []\n",
    "for i in y:\n",
    "    for j in np.unique(y):\n",
    "        if i == j:\n",
    "            class_encode.append(list(np.unique(y)).index(j))\n",
    "np.array(class_encode)"
   ]
  },
  {
   "cell_type": "code",
   "execution_count": 10,
   "metadata": {},
   "outputs": [
    {
     "data": {
      "text/plain": [
       "699"
      ]
     },
     "execution_count": 10,
     "metadata": {},
     "output_type": "execute_result"
    }
   ],
   "source": [
    "len(np.unique(y))"
   ]
  },
  {
   "cell_type": "markdown",
   "metadata": {},
   "source": [
    "## Split data"
   ]
  },
  {
   "cell_type": "code",
   "execution_count": 11,
   "metadata": {},
   "outputs": [
    {
     "name": "stderr",
     "output_type": "stream",
     "text": [
      "Using TensorFlow backend.\n"
     ]
    }
   ],
   "source": [
    "train_images, test_images, train_labels, test_labels = train_test_split(x, class_encode, test_size = 0.2, random_state = 42, stratify = class_encode)\n",
    "# # Normalize pixel values to be between 0 and 1\n",
    "train_images, test_images = train_images / 255.0, test_images / 255.0\n",
    "train_labels_org = train_labels\n",
    "test_labels_org = test_labels\n",
    "\n",
    "\n",
    "from keras.utils import np_utils\n",
    "train_labels = np_utils.to_categorical(train_labels)\n",
    "test_labels = np_utils.to_categorical(test_labels)"
   ]
  },
  {
   "cell_type": "markdown",
   "metadata": {},
   "source": [
    "## Pad and flip the data to get more data"
   ]
  },
  {
   "cell_type": "code",
   "execution_count": 12,
   "metadata": {},
   "outputs": [],
   "source": [
    "train_images_list = []\n",
    "train_labels_list = []\n",
    "for i in range(len(train_images)):\n",
    "    # original image padding into bigger image\n",
    "    pad = tf.image.pad_to_bounding_box(train_images[i], 3, 3, 96, 96) \n",
    "    pad_arr = np.asarray(pad)\n",
    "    train_images_list.append(pad_arr)\n",
    "    train_labels_list.append(train_labels[i])\n",
    "    \n",
    "    # filp image left and right \n",
    "    flip = tf.image.flip_left_right(pad)\n",
    "    flip = np.asarray(flip)\n",
    "    train_images_list.append(flip)\n",
    "    train_labels_list.append(train_labels[i])\n",
    "    \n",
    "    # crop\n",
    "    crop = tf.image.crop_to_bounding_box(train_images[i], 10, 10, 80, 80) \n",
    "    crop = tf.image.pad_to_bounding_box(crop, 3, 3, 96, 96) \n",
    "    crop = np.asarray(crop) \n",
    "    train_images_list.append(crop)\n",
    "    train_labels_list.append(train_labels[i])\n",
    "    \n",
    "    # rotation left 90 degree\n",
    "    rotation_left = tf.image.rot90(pad, k=1)\n",
    "    rotation_left = np.asarray(rotation_left)\n",
    "    train_images_list.append(rotation_left)\n",
    "    train_labels_list.append(train_labels[i])\n",
    "    \n",
    "    # rotation right 90 degree\n",
    "    rotation_right = tf.image.rot90(pad, k=3)\n",
    "    rotation_right = np.asarray(rotation_right)\n",
    "    train_images_list.append(rotation_right)\n",
    "    train_labels_list.append(train_labels[i])\n",
    "train_images = np.asarray(train_images_list)\n",
    "train_labels = np.asarray(train_labels_list)"
   ]
  },
  {
   "cell_type": "code",
   "execution_count": 13,
   "metadata": {},
   "outputs": [],
   "source": [
    "test_images_list = []\n",
    "for i in range(len(test_images)):\n",
    "    # original image padding into bigger image\n",
    "    pad = tf.image.pad_to_bounding_box(test_images[i], 3, 3, 96, 96)\n",
    "    pad_arr = np.asarray(pad)\n",
    "    test_images_list.append(pad_arr)\n",
    "\n",
    "test_images = np.asarray(test_images_list)"
   ]
  },
  {
   "cell_type": "markdown",
   "metadata": {},
   "source": [
    "# Build model"
   ]
  },
  {
   "cell_type": "markdown",
   "metadata": {},
   "source": [
    "## Model 1 (Model 5 from 3.CNN but more epochs)"
   ]
  },
  {
   "cell_type": "code",
   "execution_count": 16,
   "metadata": {},
   "outputs": [
    {
     "name": "stdout",
     "output_type": "stream",
     "text": [
      "Model: \"sequential_1\"\n",
      "_________________________________________________________________\n",
      "Layer (type)                 Output Shape              Param #   \n",
      "=================================================================\n",
      "conv2d_5 (Conv2D)            (None, 94, 94, 32)        896       \n",
      "_________________________________________________________________\n",
      "batch_normalization_6 (Batch (None, 94, 94, 32)        128       \n",
      "_________________________________________________________________\n",
      "max_pooling2d_4 (MaxPooling2 (None, 47, 47, 32)        0         \n",
      "_________________________________________________________________\n",
      "dropout_6 (Dropout)          (None, 47, 47, 32)        0         \n",
      "_________________________________________________________________\n",
      "conv2d_6 (Conv2D)            (None, 45, 45, 32)        9248      \n",
      "_________________________________________________________________\n",
      "batch_normalization_7 (Batch (None, 45, 45, 32)        128       \n",
      "_________________________________________________________________\n",
      "max_pooling2d_5 (MaxPooling2 (None, 22, 22, 32)        0         \n",
      "_________________________________________________________________\n",
      "dropout_7 (Dropout)          (None, 22, 22, 32)        0         \n",
      "_________________________________________________________________\n",
      "conv2d_7 (Conv2D)            (None, 20, 20, 64)        18496     \n",
      "_________________________________________________________________\n",
      "batch_normalization_8 (Batch (None, 20, 20, 64)        256       \n",
      "_________________________________________________________________\n",
      "max_pooling2d_6 (MaxPooling2 (None, 10, 10, 64)        0         \n",
      "_________________________________________________________________\n",
      "dropout_8 (Dropout)          (None, 10, 10, 64)        0         \n",
      "_________________________________________________________________\n",
      "conv2d_8 (Conv2D)            (None, 8, 8, 64)          36928     \n",
      "_________________________________________________________________\n",
      "batch_normalization_9 (Batch (None, 8, 8, 64)          256       \n",
      "_________________________________________________________________\n",
      "max_pooling2d_7 (MaxPooling2 (None, 4, 4, 64)          0         \n",
      "_________________________________________________________________\n",
      "dropout_9 (Dropout)          (None, 4, 4, 64)          0         \n",
      "_________________________________________________________________\n",
      "conv2d_9 (Conv2D)            (None, 2, 2, 512)         295424    \n",
      "_________________________________________________________________\n",
      "batch_normalization_10 (Batc (None, 2, 2, 512)         2048      \n",
      "_________________________________________________________________\n",
      "dropout_10 (Dropout)         (None, 2, 2, 512)         0         \n",
      "_________________________________________________________________\n",
      "flatten_1 (Flatten)          (None, 2048)              0         \n",
      "_________________________________________________________________\n",
      "dense_2 (Dense)              (None, 512)               1049088   \n",
      "_________________________________________________________________\n",
      "batch_normalization_11 (Batc (None, 512)               2048      \n",
      "_________________________________________________________________\n",
      "dropout_11 (Dropout)         (None, 512)               0         \n",
      "_________________________________________________________________\n",
      "dense_3 (Dense)              (None, 699)               358587    \n",
      "=================================================================\n",
      "Total params: 1,773,531\n",
      "Trainable params: 1,771,099\n",
      "Non-trainable params: 2,432\n",
      "_________________________________________________________________\n"
     ]
    }
   ],
   "source": [
    "model = models.Sequential()\n",
    "model.add(layers.Conv2D(32, (3,3), activation='relu', input_shape = (96, 96, 3)))\n",
    "model.add(layers.BatchNormalization())\n",
    "model.add(layers.MaxPool2D(2,2))\n",
    "model.add(layers.Dropout(0.3))\n",
    "\n",
    "model.add(layers.Conv2D(32, (3,3), activation='relu', kernel_regularizer='l2', bias_regularizer='l2'))\n",
    "model.add(layers.BatchNormalization())\n",
    "model.add(layers.MaxPool2D(2,2))\n",
    "model.add(layers.Dropout(0.3))\n",
    "\n",
    "model.add(layers.Conv2D(64, (3,3), activation='relu', kernel_regularizer='l2', bias_regularizer='l2'))\n",
    "model.add(layers.BatchNormalization())\n",
    "model.add(layers.MaxPool2D(2,2))\n",
    "model.add(layers.Dropout(0.4))\n",
    "\n",
    "model.add(layers.Conv2D(64, (3,3), activation='relu', kernel_regularizer='l2', bias_regularizer='l2'))\n",
    "model.add(layers.BatchNormalization())\n",
    "model.add(layers.MaxPool2D(2,2))\n",
    "model.add(layers.Dropout(0.4))\n",
    "\n",
    "model.add(layers.Conv2D(512, (3,3), activation='relu', kernel_regularizer='l2', bias_regularizer='l2'))\n",
    "model.add(layers.BatchNormalization())\n",
    "# model.add(layers.MaxPool2D(2,2))\n",
    "model.add(layers.Dropout(0.5))\n",
    "\n",
    "model.add(layers.Flatten())\n",
    "\n",
    "model.add(layers.Dense(512, kernel_regularizer='l2', bias_regularizer='l2', activation='relu'))\n",
    "model.add(layers.BatchNormalization())\n",
    "model.add(layers.Dropout(0.5))\n",
    "\n",
    "model.add(layers.Dense(len(np.unique(y)), activation='sigmoid'))\n",
    "\n",
    "model.summary()"
   ]
  },
  {
   "cell_type": "code",
   "execution_count": 17,
   "metadata": {},
   "outputs": [
    {
     "name": "stdout",
     "output_type": "stream",
     "text": [
      "Epoch 1/100\n",
      "920/920 [==============================] - 70s 76ms/step - loss: 15.0416 - accuracy: 0.0028 - val_loss: 13.2941 - val_accuracy: 0.0041\n",
      "Epoch 2/100\n",
      "920/920 [==============================] - 67s 73ms/step - loss: 11.5326 - accuracy: 0.0125 - val_loss: 10.6740 - val_accuracy: 0.0041\n",
      "Epoch 3/100\n",
      "920/920 [==============================] - 68s 74ms/step - loss: 9.1623 - accuracy: 0.0178 - val_loss: 8.8616 - val_accuracy: 0.0034\n",
      "Epoch 4/100\n",
      "920/920 [==============================] - 69s 74ms/step - loss: 7.6696 - accuracy: 0.0225 - val_loss: 7.7937 - val_accuracy: 0.0034\n",
      "Epoch 5/100\n",
      "920/920 [==============================] - 69s 75ms/step - loss: 6.7990 - accuracy: 0.0228 - val_loss: 7.0565 - val_accuracy: 0.0034\n",
      "Epoch 6/100\n",
      "920/920 [==============================] - 68s 74ms/step - loss: 6.2722 - accuracy: 0.0216 - val_loss: 6.5713 - val_accuracy: 0.0075\n",
      "Epoch 7/100\n",
      "920/920 [==============================] - 68s 74ms/step - loss: 5.9090 - accuracy: 0.0287 - val_loss: 6.3647 - val_accuracy: 0.0095\n",
      "Epoch 8/100\n",
      "920/920 [==============================] - 69s 75ms/step - loss: 5.5671 - accuracy: 0.0452 - val_loss: 6.1659 - val_accuracy: 0.0245\n",
      "Epoch 9/100\n",
      "920/920 [==============================] - 69s 75ms/step - loss: 5.1738 - accuracy: 0.0745 - val_loss: 5.8575 - val_accuracy: 0.0455\n",
      "Epoch 10/100\n",
      "920/920 [==============================] - 68s 74ms/step - loss: 4.7572 - accuracy: 0.1160 - val_loss: 5.3508 - val_accuracy: 0.0985\n",
      "Epoch 11/100\n",
      "920/920 [==============================] - 69s 74ms/step - loss: 4.3595 - accuracy: 0.1643 - val_loss: 5.1844 - val_accuracy: 0.1155\n",
      "Epoch 12/100\n",
      "920/920 [==============================] - 69s 75ms/step - loss: 4.0133 - accuracy: 0.2190 - val_loss: 4.7749 - val_accuracy: 0.1651\n",
      "Epoch 13/100\n",
      "920/920 [==============================] - 69s 75ms/step - loss: 3.7227 - accuracy: 0.2716 - val_loss: 4.5002 - val_accuracy: 0.2208\n",
      "Epoch 14/100\n",
      "920/920 [==============================] - 69s 75ms/step - loss: 3.5068 - accuracy: 0.3111 - val_loss: 4.5421 - val_accuracy: 0.2364\n",
      "Epoch 15/100\n",
      "920/920 [==============================] - 70s 76ms/step - loss: 3.3165 - accuracy: 0.3484 - val_loss: 4.0279 - val_accuracy: 0.3125\n",
      "Epoch 16/100\n",
      "920/920 [==============================] - 70s 76ms/step - loss: 3.1525 - accuracy: 0.3826 - val_loss: 3.9045 - val_accuracy: 0.3417\n",
      "Epoch 17/100\n",
      "920/920 [==============================] - 70s 76ms/step - loss: 3.0162 - accuracy: 0.4120 - val_loss: 3.7057 - val_accuracy: 0.3845\n",
      "Epoch 18/100\n",
      "920/920 [==============================] - 69s 75ms/step - loss: 2.9018 - accuracy: 0.4382 - val_loss: 3.5383 - val_accuracy: 0.4219\n",
      "Epoch 19/100\n",
      "920/920 [==============================] - 69s 75ms/step - loss: 2.8125 - accuracy: 0.4578 - val_loss: 3.5638 - val_accuracy: 0.4287\n",
      "Epoch 20/100\n",
      "920/920 [==============================] - 70s 76ms/step - loss: 2.7115 - accuracy: 0.4793 - val_loss: 3.4108 - val_accuracy: 0.4626\n",
      "Epoch 21/100\n",
      "920/920 [==============================] - 70s 76ms/step - loss: 2.6488 - accuracy: 0.4966 - val_loss: 3.3808 - val_accuracy: 0.4891\n",
      "Epoch 22/100\n",
      "920/920 [==============================] - 69s 75ms/step - loss: 2.5639 - accuracy: 0.5124 - val_loss: 3.3409 - val_accuracy: 0.4803\n",
      "Epoch 23/100\n",
      "920/920 [==============================] - 70s 76ms/step - loss: 2.4932 - accuracy: 0.5356 - val_loss: 3.1991 - val_accuracy: 0.5149\n",
      "Epoch 24/100\n",
      "920/920 [==============================] - 70s 76ms/step - loss: 2.4456 - accuracy: 0.5447 - val_loss: 3.1686 - val_accuracy: 0.5265\n",
      "Epoch 25/100\n",
      "920/920 [==============================] - 70s 76ms/step - loss: 2.3809 - accuracy: 0.5582 - val_loss: 3.1498 - val_accuracy: 0.5306\n",
      "Epoch 26/100\n",
      "920/920 [==============================] - 69s 75ms/step - loss: 2.3326 - accuracy: 0.5705 - val_loss: 3.1146 - val_accuracy: 0.5408\n",
      "Epoch 27/100\n",
      "920/920 [==============================] - 70s 76ms/step - loss: 2.3081 - accuracy: 0.5762 - val_loss: 3.0359 - val_accuracy: 0.5469\n",
      "Epoch 28/100\n",
      "920/920 [==============================] - 70s 76ms/step - loss: 2.2662 - accuracy: 0.5913 - val_loss: 2.9618 - val_accuracy: 0.5707\n",
      "Epoch 29/100\n",
      "920/920 [==============================] - 70s 77ms/step - loss: 2.2189 - accuracy: 0.5995 - val_loss: 3.0301 - val_accuracy: 0.5666\n",
      "Epoch 30/100\n",
      "920/920 [==============================] - 70s 76ms/step - loss: 2.1874 - accuracy: 0.6068 - val_loss: 3.0867 - val_accuracy: 0.5564\n",
      "Epoch 31/100\n",
      "920/920 [==============================] - 70s 76ms/step - loss: 2.1361 - accuracy: 0.6175 - val_loss: 2.9710 - val_accuracy: 0.5802\n",
      "Epoch 32/100\n",
      "920/920 [==============================] - 70s 76ms/step - loss: 2.1069 - accuracy: 0.6253 - val_loss: 2.9664 - val_accuracy: 0.5870\n",
      "Epoch 33/100\n",
      "920/920 [==============================] - 70s 76ms/step - loss: 2.0924 - accuracy: 0.6283 - val_loss: 2.9619 - val_accuracy: 0.5904\n",
      "Epoch 34/100\n",
      "920/920 [==============================] - 70s 76ms/step - loss: 2.0582 - accuracy: 0.6395 - val_loss: 2.9786 - val_accuracy: 0.5890\n",
      "Epoch 35/100\n",
      "920/920 [==============================] - 70s 76ms/step - loss: 2.0427 - accuracy: 0.6414 - val_loss: 2.9288 - val_accuracy: 0.5971\n",
      "Epoch 36/100\n",
      "920/920 [==============================] - 70s 76ms/step - loss: 2.0236 - accuracy: 0.6453 - val_loss: 3.1431 - val_accuracy: 0.5808\n",
      "Epoch 37/100\n",
      "920/920 [==============================] - 69s 75ms/step - loss: 1.9909 - accuracy: 0.6543 - val_loss: 2.9981 - val_accuracy: 0.5890\n",
      "Epoch 38/100\n",
      "920/920 [==============================] - 69s 75ms/step - loss: 1.9725 - accuracy: 0.6621 - val_loss: 2.8250 - val_accuracy: 0.6223\n",
      "Epoch 39/100\n",
      "920/920 [==============================] - 69s 75ms/step - loss: 1.9430 - accuracy: 0.6658 - val_loss: 2.9553 - val_accuracy: 0.6053\n",
      "Epoch 40/100\n",
      "920/920 [==============================] - 69s 75ms/step - loss: 1.9173 - accuracy: 0.6734 - val_loss: 3.0971 - val_accuracy: 0.5815\n",
      "Epoch 41/100\n",
      "920/920 [==============================] - 69s 75ms/step - loss: 1.9196 - accuracy: 0.6708 - val_loss: 2.8541 - val_accuracy: 0.6216\n",
      "Epoch 42/100\n",
      "920/920 [==============================] - 69s 75ms/step - loss: 1.8967 - accuracy: 0.6803 - val_loss: 2.9172 - val_accuracy: 0.6155\n",
      "Epoch 43/100\n",
      "920/920 [==============================] - 69s 75ms/step - loss: 1.8696 - accuracy: 0.6880 - val_loss: 3.0652 - val_accuracy: 0.5870\n",
      "Epoch 44/100\n",
      "920/920 [==============================] - 69s 75ms/step - loss: 1.8725 - accuracy: 0.6838 - val_loss: 3.0333 - val_accuracy: 0.6019\n",
      "Epoch 45/100\n",
      "920/920 [==============================] - 69s 75ms/step - loss: 1.8517 - accuracy: 0.6927 - val_loss: 2.8045 - val_accuracy: 0.6325\n",
      "Epoch 46/100\n",
      "920/920 [==============================] - 68s 74ms/step - loss: 1.8446 - accuracy: 0.6915 - val_loss: 2.8359 - val_accuracy: 0.6270\n",
      "Epoch 47/100\n",
      "920/920 [==============================] - 69s 75ms/step - loss: 1.8278 - accuracy: 0.6958 - val_loss: 2.8989 - val_accuracy: 0.6230\n",
      "Epoch 48/100\n",
      "920/920 [==============================] - 69s 75ms/step - loss: 1.8064 - accuracy: 0.7044 - val_loss: 2.8756 - val_accuracy: 0.6332\n",
      "Epoch 49/100\n",
      "920/920 [==============================] - 69s 75ms/step - loss: 1.8033 - accuracy: 0.7050 - val_loss: 2.8886 - val_accuracy: 0.6345\n",
      "Epoch 50/100\n",
      "920/920 [==============================] - 68s 74ms/step - loss: 1.7831 - accuracy: 0.7081 - val_loss: 2.8357 - val_accuracy: 0.6427\n",
      "Epoch 51/100\n",
      "920/920 [==============================] - 68s 74ms/step - loss: 1.7871 - accuracy: 0.7074 - val_loss: 2.9067 - val_accuracy: 0.6209\n",
      "Epoch 52/100\n",
      "920/920 [==============================] - 69s 75ms/step - loss: 1.7601 - accuracy: 0.7165 - val_loss: 2.9442 - val_accuracy: 0.6291\n",
      "Epoch 53/100\n",
      "920/920 [==============================] - 69s 75ms/step - loss: 1.7603 - accuracy: 0.7151 - val_loss: 2.8593 - val_accuracy: 0.6413\n",
      "Epoch 54/100\n",
      "920/920 [==============================] - 68s 74ms/step - loss: 1.7441 - accuracy: 0.7186 - val_loss: 2.9048 - val_accuracy: 0.6386\n",
      "Epoch 55/100\n",
      "920/920 [==============================] - 68s 74ms/step - loss: 1.7442 - accuracy: 0.7185 - val_loss: 2.8028 - val_accuracy: 0.6508\n",
      "Epoch 56/100\n",
      "920/920 [==============================] - 69s 75ms/step - loss: 1.7212 - accuracy: 0.7247 - val_loss: 2.8419 - val_accuracy: 0.6481\n",
      "Epoch 57/100\n"
     ]
    },
    {
     "name": "stdout",
     "output_type": "stream",
     "text": [
      "920/920 [==============================] - 69s 75ms/step - loss: 1.7278 - accuracy: 0.7234 - val_loss: 2.8413 - val_accuracy: 0.6359\n",
      "Epoch 58/100\n",
      "920/920 [==============================] - 69s 75ms/step - loss: 1.7176 - accuracy: 0.7251 - val_loss: 2.7828 - val_accuracy: 0.6542\n",
      "Epoch 59/100\n",
      "920/920 [==============================] - 69s 75ms/step - loss: 1.7104 - accuracy: 0.7292 - val_loss: 2.8809 - val_accuracy: 0.6447\n",
      "Epoch 60/100\n",
      "920/920 [==============================] - 69s 75ms/step - loss: 1.6970 - accuracy: 0.7320 - val_loss: 3.0192 - val_accuracy: 0.6284\n",
      "Epoch 61/100\n",
      "920/920 [==============================] - 69s 75ms/step - loss: 1.6892 - accuracy: 0.7337 - val_loss: 2.9004 - val_accuracy: 0.6359\n",
      "Epoch 62/100\n",
      "920/920 [==============================] - 69s 75ms/step - loss: 1.6878 - accuracy: 0.7326 - val_loss: 3.0305 - val_accuracy: 0.6128\n",
      "Epoch 63/100\n",
      "920/920 [==============================] - 69s 75ms/step - loss: 1.6871 - accuracy: 0.7357 - val_loss: 2.8856 - val_accuracy: 0.6379\n",
      "Epoch 64/100\n",
      "920/920 [==============================] - 70s 76ms/step - loss: 1.6744 - accuracy: 0.7386 - val_loss: 2.9043 - val_accuracy: 0.6365\n",
      "Epoch 65/100\n",
      "920/920 [==============================] - 69s 75ms/step - loss: 1.6685 - accuracy: 0.7405 - val_loss: 2.9179 - val_accuracy: 0.6433\n",
      "Epoch 66/100\n",
      "920/920 [==============================] - 69s 75ms/step - loss: 1.6658 - accuracy: 0.7398 - val_loss: 2.8506 - val_accuracy: 0.6508\n",
      "Epoch 67/100\n",
      "920/920 [==============================] - 69s 75ms/step - loss: 1.6465 - accuracy: 0.7479 - val_loss: 2.8724 - val_accuracy: 0.6610\n",
      "Epoch 68/100\n",
      "920/920 [==============================] - 69s 75ms/step - loss: 1.6272 - accuracy: 0.7491 - val_loss: 2.8644 - val_accuracy: 0.6596\n",
      "Epoch 69/100\n",
      "920/920 [==============================] - 69s 75ms/step - loss: 1.6315 - accuracy: 0.7491 - val_loss: 2.9630 - val_accuracy: 0.6379\n",
      "Epoch 70/100\n",
      "920/920 [==============================] - 69s 75ms/step - loss: 1.6355 - accuracy: 0.7468 - val_loss: 2.8677 - val_accuracy: 0.6481\n",
      "Epoch 71/100\n",
      "920/920 [==============================] - 69s 75ms/step - loss: 1.6388 - accuracy: 0.7493 - val_loss: 2.8904 - val_accuracy: 0.6583\n",
      "Epoch 72/100\n",
      "920/920 [==============================] - 69s 75ms/step - loss: 1.6188 - accuracy: 0.7534 - val_loss: 2.9146 - val_accuracy: 0.6440\n",
      "Epoch 73/100\n",
      "920/920 [==============================] - 69s 75ms/step - loss: 1.6240 - accuracy: 0.7521 - val_loss: 2.9014 - val_accuracy: 0.6495\n",
      "Epoch 74/100\n",
      "920/920 [==============================] - 69s 75ms/step - loss: 1.6224 - accuracy: 0.7522 - val_loss: 2.9192 - val_accuracy: 0.6338\n",
      "Epoch 75/100\n",
      "920/920 [==============================] - 69s 75ms/step - loss: 1.6126 - accuracy: 0.7558 - val_loss: 2.8938 - val_accuracy: 0.6603\n",
      "Epoch 76/100\n",
      "920/920 [==============================] - 69s 75ms/step - loss: 1.5997 - accuracy: 0.7568 - val_loss: 2.8395 - val_accuracy: 0.6630\n",
      "Epoch 77/100\n",
      "920/920 [==============================] - 69s 75ms/step - loss: 1.5969 - accuracy: 0.7586 - val_loss: 2.9736 - val_accuracy: 0.6406\n",
      "Epoch 78/100\n",
      "920/920 [==============================] - 69s 75ms/step - loss: 1.6118 - accuracy: 0.7558 - val_loss: 2.8190 - val_accuracy: 0.6576\n",
      "Epoch 79/100\n",
      "920/920 [==============================] - 69s 75ms/step - loss: 1.5938 - accuracy: 0.7588 - val_loss: 2.8419 - val_accuracy: 0.6596\n",
      "Epoch 80/100\n",
      "920/920 [==============================] - 69s 75ms/step - loss: 1.5885 - accuracy: 0.7608 - val_loss: 2.8770 - val_accuracy: 0.6596\n",
      "Epoch 81/100\n",
      "920/920 [==============================] - 69s 75ms/step - loss: 1.5889 - accuracy: 0.7581 - val_loss: 2.8666 - val_accuracy: 0.6583\n",
      "Epoch 82/100\n",
      "920/920 [==============================] - 69s 75ms/step - loss: 1.5869 - accuracy: 0.7594 - val_loss: 2.7633 - val_accuracy: 0.6719\n",
      "Epoch 83/100\n",
      "920/920 [==============================] - 69s 75ms/step - loss: 1.5736 - accuracy: 0.7624 - val_loss: 2.8706 - val_accuracy: 0.6590\n",
      "Epoch 84/100\n",
      "920/920 [==============================] - 69s 76ms/step - loss: 1.5855 - accuracy: 0.7622 - val_loss: 2.8686 - val_accuracy: 0.6732\n",
      "Epoch 85/100\n",
      "920/920 [==============================] - 69s 75ms/step - loss: 1.5682 - accuracy: 0.7659 - val_loss: 2.8729 - val_accuracy: 0.6617\n",
      "Epoch 86/100\n",
      "920/920 [==============================] - 69s 75ms/step - loss: 1.5657 - accuracy: 0.7700 - val_loss: 2.9031 - val_accuracy: 0.6535\n",
      "Epoch 87/100\n",
      "920/920 [==============================] - 69s 75ms/step - loss: 1.5683 - accuracy: 0.7675 - val_loss: 2.9261 - val_accuracy: 0.6420\n",
      "Epoch 88/100\n",
      "920/920 [==============================] - 69s 75ms/step - loss: 1.5616 - accuracy: 0.7699 - val_loss: 2.9105 - val_accuracy: 0.6576\n",
      "Epoch 89/100\n",
      "920/920 [==============================] - 69s 75ms/step - loss: 1.5533 - accuracy: 0.7705 - val_loss: 2.9565 - val_accuracy: 0.6433\n",
      "Epoch 90/100\n",
      "920/920 [==============================] - 69s 75ms/step - loss: 1.5634 - accuracy: 0.7691 - val_loss: 2.9156 - val_accuracy: 0.6529\n",
      "Epoch 91/100\n",
      "920/920 [==============================] - 69s 75ms/step - loss: 1.5589 - accuracy: 0.7679 - val_loss: 2.8944 - val_accuracy: 0.6569\n",
      "Epoch 92/100\n",
      "920/920 [==============================] - 69s 75ms/step - loss: 1.5546 - accuracy: 0.7696 - val_loss: 3.0204 - val_accuracy: 0.6325\n",
      "Epoch 93/100\n",
      "920/920 [==============================] - 69s 75ms/step - loss: 1.5595 - accuracy: 0.7682 - val_loss: 2.9356 - val_accuracy: 0.6569\n",
      "Epoch 94/100\n",
      "920/920 [==============================] - 69s 75ms/step - loss: 1.5561 - accuracy: 0.7748 - val_loss: 2.9098 - val_accuracy: 0.6529\n",
      "Epoch 95/100\n",
      "920/920 [==============================] - 69s 75ms/step - loss: 1.5424 - accuracy: 0.7741 - val_loss: 2.8288 - val_accuracy: 0.6664\n",
      "Epoch 96/100\n",
      "920/920 [==============================] - 69s 75ms/step - loss: 1.5478 - accuracy: 0.7731 - val_loss: 2.9238 - val_accuracy: 0.6508\n",
      "Epoch 97/100\n",
      "920/920 [==============================] - 69s 75ms/step - loss: 1.5495 - accuracy: 0.7739 - val_loss: 2.8669 - val_accuracy: 0.6562\n",
      "Epoch 98/100\n",
      "920/920 [==============================] - 69s 75ms/step - loss: 1.5342 - accuracy: 0.7770 - val_loss: 2.8438 - val_accuracy: 0.6658\n",
      "Epoch 99/100\n",
      "920/920 [==============================] - 69s 75ms/step - loss: 1.5258 - accuracy: 0.7776 - val_loss: 2.7495 - val_accuracy: 0.6793\n",
      "Epoch 100/100\n",
      "920/920 [==============================] - 69s 75ms/step - loss: 1.5290 - accuracy: 0.7776 - val_loss: 2.8531 - val_accuracy: 0.6590\n"
     ]
    }
   ],
   "source": [
    "model.compile(optimizers.Adam(lr=0.0001), loss='categorical_crossentropy', metrics=[\"accuracy\"])       \n",
    "\n",
    "history = model.fit(train_images, train_labels, epochs = 100, validation_data=(test_images, test_labels))  #epochs = 500"
   ]
  },
  {
   "cell_type": "code",
   "execution_count": 18,
   "metadata": {},
   "outputs": [
    {
     "name": "stdout",
     "output_type": "stream",
     "text": [
      "WARNING:tensorflow:From C:\\Users\\songz\\Anaconda3\\envs\\tensorflow\\lib\\site-packages\\tensorflow\\python\\ops\\resource_variable_ops.py:1817: calling BaseResourceVariable.__init__ (from tensorflow.python.ops.resource_variable_ops) with constraint is deprecated and will be removed in a future version.\n",
      "Instructions for updating:\n",
      "If using Keras pass *_constraint arguments to layers.\n",
      "INFO:tensorflow:Assets written to: ./model in 26.CNN with more data by pad flip crop and rotation\\assets\n"
     ]
    }
   ],
   "source": [
    "model.save('./model in 26.CNN with more data by pad flip crop and rotation') "
   ]
  },
  {
   "cell_type": "code",
   "execution_count": 19,
   "metadata": {},
   "outputs": [
    {
     "name": "stdout",
     "output_type": "stream",
     "text": [
      "46/46 - 1s - loss: 2.8531 - accuracy: 0.6590\n"
     ]
    },
    {
     "data": {
      "image/png": "[encoded data removed]",
      "text/plain": [
       "<Figure size 432x288 with 1 Axes>"
      ]
     },
     "metadata": {
      "needs_background": "light"
     },
     "output_type": "display_data"
    }
   ],
   "source": [
    "plt.title('Accuracy')\n",
    "plt.plot(history.history['accuracy'], label='accuracy')\n",
    "plt.plot(history.history['val_accuracy'], label = 'val_accuracy')\n",
    "plt.xlabel('Epoch')\n",
    "plt.ylabel('Accuracy')\n",
    "plt.ylim([0, 1])\n",
    "plt.legend(loc='lower right')\n",
    "\n",
    "test_loss, test_acc = model.evaluate(test_images,  test_labels, verbose=2)"
   ]
  },
  {
   "cell_type": "code",
   "execution_count": 20,
   "metadata": {},
   "outputs": [
    {
     "data": {
      "text/plain": [
       "<matplotlib.legend.Legend at 0x219f0380588>"
      ]
     },
     "execution_count": 20,
     "metadata": {},
     "output_type": "execute_result"
    },
    {
     "data": {
      "image/png": "[encoded data removed]",
      "text/plain": [
       "<Figure size 432x288 with 1 Axes>"
      ]
     },
     "metadata": {
      "needs_background": "light"
     },
     "output_type": "display_data"
    }
   ],
   "source": [
    "plt.title('Loss')\n",
    "plt.plot(history.history['loss'], label='train')\n",
    "plt.plot(history.history['val_loss'], label='test')\n",
    "plt.xlabel('Epoch')\n",
    "plt.ylabel('Loss')\n",
    "plt.legend(loc='lower right')"
   ]
  },
  {
   "cell_type": "code",
   "execution_count": 21,
   "metadata": {},
   "outputs": [],
   "source": [
    "# 存/取模型\n",
    "# model.save('/model in 6.CNN with more databy pad and flip') \n",
    "# loaded_model = tf.keras.models.load_model('/tmp/model') "
   ]
  },
  {
   "cell_type": "code",
   "execution_count": null,
   "metadata": {},
   "outputs": [],
   "source": []
  }
 ],
 "metadata": {
  "kernelspec": {
   "display_name": "Python 3",
   "language": "python",
   "name": "python3"
  },
  "language_info": {
   "codemirror_mode": {
    "name": "ipython",
    "version": 3
   },
   "file_extension": ".py",
   "mimetype": "text/x-python",
   "name": "python",
   "nbconvert_exporter": "python",
   "pygments_lexer": "ipython3",
   "version": "3.7.7"
  },
  "toc": {
   "base_numbering": 1,
   "nav_menu": {},
   "number_sections": true,
   "sideBar": true,
   "skip_h1_title": false,
   "title_cell": "Table of Contents",
   "title_sidebar": "Contents",
   "toc_cell": false,
   "toc_position": {},
   "toc_section_display": true,
   "toc_window_display": false
  }
 },
 "nbformat": 4,
 "nbformat_minor": 4
}
